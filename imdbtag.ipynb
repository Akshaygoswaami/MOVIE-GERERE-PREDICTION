{
 "cells": [
  {
   "cell_type": "code",
   "execution_count": 0,
   "metadata": {
    "colab": {},
    "colab_type": "code",
    "id": "KZvbzVnJ2-r2"
   },
   "outputs": [],
   "source": [
    "import pandas as pd\n",
    "import warnings\n",
    "warnings.filterwarnings(\"ignore\")\n",
    "import pandas as pd\n",
    "import sqlite3\n",
    "import csv\n",
    "import matplotlib.pyplot as plt\n",
    "import seaborn as sns\n",
    "import numpy as np\n",
    "from wordcloud import WordCloud\n",
    "import re\n",
    "import os\n",
    "from sqlalchemy import create_engine # database connection\n",
    "import datetime as dt\n",
    "from nltk.corpus import stopwords\n",
    "from nltk.tokenize import word_tokenize\n",
    "from nltk.stem.snowball import SnowballStemmer\n",
    "from sklearn.feature_extraction.text import CountVectorizer\n",
    "from sklearn.feature_extraction.text import TfidfVectorizer\n",
    "from sklearn.multiclass import OneVsRestClassifier\n",
    "from sklearn.linear_model import SGDClassifier\n",
    "from sklearn import metrics\n",
    "from sklearn.metrics import f1_score,precision_score,recall_score\n",
    "from sklearn import svm\n",
    "from sklearn.linear_model import LogisticRegression\n",
    "from sklearn.naive_bayes import GaussianNB\n",
    "from datetime import datetime"
   ]
  },
  {
   "cell_type": "markdown",
   "metadata": {
    "colab_type": "text",
    "id": "H927tqIYRBxx"
   },
   "source": [
    "# loading data"
   ]
  },
  {
   "cell_type": "code",
   "execution_count": 2,
   "metadata": {
    "colab": {
     "base_uri": "https://localhost:8080/",
     "height": 51
    },
    "colab_type": "code",
    "id": "cKH4Wo9V3B8V",
    "outputId": "b2f986d4-74ee-459f-e1e1-1e767c07b89e"
   },
   "outputs": [
    {
     "name": "stdout",
     "output_type": "stream",
     "text": [
      "\u001b[?25l\r",
      "\u001b[K     |▎                               | 10kB 17.9MB/s eta 0:00:01\r",
      "\u001b[K     |▋                               | 20kB 4.8MB/s eta 0:00:01\r",
      "\u001b[K     |█                               | 30kB 6.7MB/s eta 0:00:01\r",
      "\u001b[K     |█▎                              | 40kB 4.2MB/s eta 0:00:01\r",
      "\u001b[K     |█▋                              | 51kB 5.0MB/s eta 0:00:01\r",
      "\u001b[K     |██                              | 61kB 5.9MB/s eta 0:00:01\r",
      "\u001b[K     |██▎                             | 71kB 6.7MB/s eta 0:00:01\r",
      "\u001b[K     |██▋                             | 81kB 7.5MB/s eta 0:00:01\r",
      "\u001b[K     |███                             | 92kB 8.3MB/s eta 0:00:01\r",
      "\u001b[K     |███▎                            | 102kB 6.6MB/s eta 0:00:01\r",
      "\u001b[K     |███▋                            | 112kB 6.6MB/s eta 0:00:01\r",
      "\u001b[K     |████                            | 122kB 6.6MB/s eta 0:00:01\r",
      "\u001b[K     |████▎                           | 133kB 6.6MB/s eta 0:00:01\r",
      "\u001b[K     |████▋                           | 143kB 6.6MB/s eta 0:00:01\r",
      "\u001b[K     |█████                           | 153kB 6.6MB/s eta 0:00:01\r",
      "\u001b[K     |█████▎                          | 163kB 6.6MB/s eta 0:00:01\r",
      "\u001b[K     |█████▋                          | 174kB 6.6MB/s eta 0:00:01\r",
      "\u001b[K     |██████                          | 184kB 6.6MB/s eta 0:00:01\r",
      "\u001b[K     |██████▎                         | 194kB 6.6MB/s eta 0:00:01\r",
      "\u001b[K     |██████▋                         | 204kB 6.6MB/s eta 0:00:01\r",
      "\u001b[K     |███████                         | 215kB 6.6MB/s eta 0:00:01\r",
      "\u001b[K     |███████▎                        | 225kB 6.6MB/s eta 0:00:01\r",
      "\u001b[K     |███████▋                        | 235kB 6.6MB/s eta 0:00:01\r",
      "\u001b[K     |████████                        | 245kB 6.6MB/s eta 0:00:01\r",
      "\u001b[K     |████████▎                       | 256kB 6.6MB/s eta 0:00:01\r",
      "\u001b[K     |████████▋                       | 266kB 6.6MB/s eta 0:00:01\r",
      "\u001b[K     |█████████                       | 276kB 6.6MB/s eta 0:00:01\r",
      "\u001b[K     |█████████▎                      | 286kB 6.6MB/s eta 0:00:01\r",
      "\u001b[K     |█████████▋                      | 296kB 6.6MB/s eta 0:00:01\r",
      "\u001b[K     |██████████                      | 307kB 6.6MB/s eta 0:00:01\r",
      "\u001b[K     |██████████▎                     | 317kB 6.6MB/s eta 0:00:01\r",
      "\u001b[K     |██████████▋                     | 327kB 6.6MB/s eta 0:00:01\r",
      "\u001b[K     |███████████                     | 337kB 6.6MB/s eta 0:00:01\r",
      "\u001b[K     |███████████▎                    | 348kB 6.6MB/s eta 0:00:01\r",
      "\u001b[K     |███████████▋                    | 358kB 6.6MB/s eta 0:00:01\r",
      "\u001b[K     |████████████                    | 368kB 6.6MB/s eta 0:00:01\r",
      "\u001b[K     |████████████▎                   | 378kB 6.6MB/s eta 0:00:01\r",
      "\u001b[K     |████████████▋                   | 389kB 6.6MB/s eta 0:00:01\r",
      "\u001b[K     |█████████████                   | 399kB 6.6MB/s eta 0:00:01\r",
      "\u001b[K     |█████████████▎                  | 409kB 6.6MB/s eta 0:00:01\r",
      "\u001b[K     |█████████████▋                  | 419kB 6.6MB/s eta 0:00:01\r",
      "\u001b[K     |██████████████                  | 430kB 6.6MB/s eta 0:00:01\r",
      "\u001b[K     |██████████████▎                 | 440kB 6.6MB/s eta 0:00:01\r",
      "\u001b[K     |██████████████▋                 | 450kB 6.6MB/s eta 0:00:01\r",
      "\u001b[K     |███████████████                 | 460kB 6.6MB/s eta 0:00:01\r",
      "\u001b[K     |███████████████▎                | 471kB 6.6MB/s eta 0:00:01\r",
      "\u001b[K     |███████████████▋                | 481kB 6.6MB/s eta 0:00:01\r",
      "\u001b[K     |████████████████                | 491kB 6.6MB/s eta 0:00:01\r",
      "\u001b[K     |████████████████▎               | 501kB 6.6MB/s eta 0:00:01\r",
      "\u001b[K     |████████████████▋               | 512kB 6.6MB/s eta 0:00:01\r",
      "\u001b[K     |█████████████████               | 522kB 6.6MB/s eta 0:00:01\r",
      "\u001b[K     |█████████████████▎              | 532kB 6.6MB/s eta 0:00:01\r",
      "\u001b[K     |█████████████████▋              | 542kB 6.6MB/s eta 0:00:01\r",
      "\u001b[K     |██████████████████              | 552kB 6.6MB/s eta 0:00:01\r",
      "\u001b[K     |██████████████████▎             | 563kB 6.6MB/s eta 0:00:01\r",
      "\u001b[K     |██████████████████▋             | 573kB 6.6MB/s eta 0:00:01\r",
      "\u001b[K     |███████████████████             | 583kB 6.6MB/s eta 0:00:01\r",
      "\u001b[K     |███████████████████▎            | 593kB 6.6MB/s eta 0:00:01\r",
      "\u001b[K     |███████████████████▋            | 604kB 6.6MB/s eta 0:00:01\r",
      "\u001b[K     |████████████████████            | 614kB 6.6MB/s eta 0:00:01\r",
      "\u001b[K     |████████████████████▎           | 624kB 6.6MB/s eta 0:00:01\r",
      "\u001b[K     |████████████████████▋           | 634kB 6.6MB/s eta 0:00:01\r",
      "\u001b[K     |█████████████████████           | 645kB 6.6MB/s eta 0:00:01\r",
      "\u001b[K     |█████████████████████▎          | 655kB 6.6MB/s eta 0:00:01\r",
      "\u001b[K     |█████████████████████▋          | 665kB 6.6MB/s eta 0:00:01\r",
      "\u001b[K     |██████████████████████          | 675kB 6.6MB/s eta 0:00:01\r",
      "\u001b[K     |██████████████████████▎         | 686kB 6.6MB/s eta 0:00:01\r",
      "\u001b[K     |██████████████████████▋         | 696kB 6.6MB/s eta 0:00:01\r",
      "\u001b[K     |███████████████████████         | 706kB 6.6MB/s eta 0:00:01\r",
      "\u001b[K     |███████████████████████▎        | 716kB 6.6MB/s eta 0:00:01\r",
      "\u001b[K     |███████████████████████▋        | 727kB 6.6MB/s eta 0:00:01\r",
      "\u001b[K     |████████████████████████        | 737kB 6.6MB/s eta 0:00:01\r",
      "\u001b[K     |████████████████████████▎       | 747kB 6.6MB/s eta 0:00:01\r",
      "\u001b[K     |████████████████████████▋       | 757kB 6.6MB/s eta 0:00:01\r",
      "\u001b[K     |████████████████████████▉       | 768kB 6.6MB/s eta 0:00:01\r",
      "\u001b[K     |█████████████████████████▏      | 778kB 6.6MB/s eta 0:00:01\r",
      "\u001b[K     |█████████████████████████▌      | 788kB 6.6MB/s eta 0:00:01\r",
      "\u001b[K     |█████████████████████████▉      | 798kB 6.6MB/s eta 0:00:01\r",
      "\u001b[K     |██████████████████████████▏     | 808kB 6.6MB/s eta 0:00:01\r",
      "\u001b[K     |██████████████████████████▌     | 819kB 6.6MB/s eta 0:00:01\r",
      "\u001b[K     |██████████████████████████▉     | 829kB 6.6MB/s eta 0:00:01\r",
      "\u001b[K     |███████████████████████████▏    | 839kB 6.6MB/s eta 0:00:01\r",
      "\u001b[K     |███████████████████████████▌    | 849kB 6.6MB/s eta 0:00:01\r",
      "\u001b[K     |███████████████████████████▉    | 860kB 6.6MB/s eta 0:00:01\r",
      "\u001b[K     |████████████████████████████▏   | 870kB 6.6MB/s eta 0:00:01\r",
      "\u001b[K     |████████████████████████████▌   | 880kB 6.6MB/s eta 0:00:01\r",
      "\u001b[K     |████████████████████████████▉   | 890kB 6.6MB/s eta 0:00:01\r",
      "\u001b[K     |█████████████████████████████▏  | 901kB 6.6MB/s eta 0:00:01\r",
      "\u001b[K     |█████████████████████████████▌  | 911kB 6.6MB/s eta 0:00:01\r",
      "\u001b[K     |█████████████████████████████▉  | 921kB 6.6MB/s eta 0:00:01\r",
      "\u001b[K     |██████████████████████████████▏ | 931kB 6.6MB/s eta 0:00:01\r",
      "\u001b[K     |██████████████████████████████▌ | 942kB 6.6MB/s eta 0:00:01\r",
      "\u001b[K     |██████████████████████████████▉ | 952kB 6.6MB/s eta 0:00:01\r",
      "\u001b[K     |███████████████████████████████▏| 962kB 6.6MB/s eta 0:00:01\r",
      "\u001b[K     |███████████████████████████████▌| 972kB 6.6MB/s eta 0:00:01\r",
      "\u001b[K     |███████████████████████████████▉| 983kB 6.6MB/s eta 0:00:01\r",
      "\u001b[K     |████████████████████████████████| 993kB 6.6MB/s \n",
      "\u001b[?25h  Building wheel for PyDrive (setup.py) ... \u001b[?25l\u001b[?25hdone\n"
     ]
    }
   ],
   "source": [
    "!pip install -U -q PyDrive\n",
    "from pydrive.auth import GoogleAuth\n",
    "from pydrive.drive import GoogleDrive\n",
    "from google.colab import auth\n",
    "from oauth2client.client import GoogleCredentials\n",
    "# Authenticate and create the PyDrive client.\n",
    "auth.authenticate_user()\n",
    "gauth = GoogleAuth()\n",
    "gauth.credentials = GoogleCredentials.get_application_default()\n",
    "drive = GoogleDrive(gauth)"
   ]
  },
  {
   "cell_type": "code",
   "execution_count": 3,
   "metadata": {
    "colab": {
     "base_uri": "https://localhost:8080/",
     "height": 34
    },
    "colab_type": "code",
    "id": "16xCZ6qV3cx-",
    "outputId": "c91aeff1-1a07-4c36-8e93-26e1f704ca41"
   },
   "outputs": [
    {
     "name": "stdout",
     "output_type": "stream",
     "text": [
      "1TUDwODYHxNneCjyss6XhqJaDpB0NrQbG\n"
     ]
    }
   ],
   "source": [
    "\n",
    "link = 'https://drive.google.com/open?id=1TUDwODYHxNneCjyss6XhqJaDpB0NrQbG' # The shareable link\n",
    "fluff, id = link.split('=')\n",
    "print (id) "
   ]
  },
  {
   "cell_type": "code",
   "execution_count": 0,
   "metadata": {
    "colab": {},
    "colab_type": "code",
    "id": "ZWRYE-h_3r8l"
   },
   "outputs": [],
   "source": [
    "downloaded = drive.CreateFile({'id':id}) \n",
    "downloaded.GetContentFile('mpst_full_data.csv')  \n",
    " \n"
   ]
  },
  {
   "cell_type": "code",
   "execution_count": 5,
   "metadata": {
    "colab": {
     "base_uri": "https://localhost:8080/",
     "height": 238
    },
    "colab_type": "code",
    "id": "hg7oJlON2-r7",
    "outputId": "46bdc64d-6492-4352-840c-b9b1bad5342a"
   },
   "outputs": [
    {
     "data": {
      "text/html": [
       "<div>\n",
       "<style scoped>\n",
       "    .dataframe tbody tr th:only-of-type {\n",
       "        vertical-align: middle;\n",
       "    }\n",
       "\n",
       "    .dataframe tbody tr th {\n",
       "        vertical-align: top;\n",
       "    }\n",
       "\n",
       "    .dataframe thead th {\n",
       "        text-align: right;\n",
       "    }\n",
       "</style>\n",
       "<table border=\"1\" class=\"dataframe\">\n",
       "  <thead>\n",
       "    <tr style=\"text-align: right;\">\n",
       "      <th></th>\n",
       "      <th>imdb_id</th>\n",
       "      <th>title</th>\n",
       "      <th>plot_synopsis</th>\n",
       "      <th>tags</th>\n",
       "      <th>split</th>\n",
       "      <th>synopsis_source</th>\n",
       "    </tr>\n",
       "  </thead>\n",
       "  <tbody>\n",
       "    <tr>\n",
       "      <th>0</th>\n",
       "      <td>tt0057603</td>\n",
       "      <td>I tre volti della paura</td>\n",
       "      <td>Note: this synopsis is for the orginal Italian...</td>\n",
       "      <td>cult, horror, gothic, murder, atmospheric</td>\n",
       "      <td>train</td>\n",
       "      <td>imdb</td>\n",
       "    </tr>\n",
       "    <tr>\n",
       "      <th>1</th>\n",
       "      <td>tt1733125</td>\n",
       "      <td>Dungeons &amp; Dragons: The Book of Vile Darkness</td>\n",
       "      <td>Two thousand years ago, Nhagruul the Foul, a s...</td>\n",
       "      <td>violence</td>\n",
       "      <td>train</td>\n",
       "      <td>imdb</td>\n",
       "    </tr>\n",
       "    <tr>\n",
       "      <th>2</th>\n",
       "      <td>tt0033045</td>\n",
       "      <td>The Shop Around the Corner</td>\n",
       "      <td>Matuschek's, a gift store in Budapest, is the ...</td>\n",
       "      <td>romantic</td>\n",
       "      <td>test</td>\n",
       "      <td>imdb</td>\n",
       "    </tr>\n",
       "    <tr>\n",
       "      <th>3</th>\n",
       "      <td>tt0113862</td>\n",
       "      <td>Mr. Holland's Opus</td>\n",
       "      <td>Glenn Holland, not a morning person by anyone'...</td>\n",
       "      <td>inspiring, romantic, stupid, feel-good</td>\n",
       "      <td>train</td>\n",
       "      <td>imdb</td>\n",
       "    </tr>\n",
       "    <tr>\n",
       "      <th>4</th>\n",
       "      <td>tt0086250</td>\n",
       "      <td>Scarface</td>\n",
       "      <td>In May 1980, a Cuban man named Tony Montana (A...</td>\n",
       "      <td>cruelty, murder, dramatic, cult, violence, atm...</td>\n",
       "      <td>val</td>\n",
       "      <td>imdb</td>\n",
       "    </tr>\n",
       "  </tbody>\n",
       "</table>\n",
       "</div>"
      ],
      "text/plain": [
       "     imdb_id  ... synopsis_source\n",
       "0  tt0057603  ...            imdb\n",
       "1  tt1733125  ...            imdb\n",
       "2  tt0033045  ...            imdb\n",
       "3  tt0113862  ...            imdb\n",
       "4  tt0086250  ...            imdb\n",
       "\n",
       "[5 rows x 6 columns]"
      ]
     },
     "execution_count": 5,
     "metadata": {
      "tags": []
     },
     "output_type": "execute_result"
    }
   ],
   "source": [
    "df=pd.read_csv('mpst_full_data.csv')\n",
    "df.head()"
   ]
  },
  {
   "cell_type": "code",
   "execution_count": 6,
   "metadata": {
    "colab": {
     "base_uri": "https://localhost:8080/",
     "height": 34
    },
    "colab_type": "code",
    "id": "F1SBw50b2-sA",
    "outputId": "8af85da5-3241-42cc-a2d1-f747d0eef7bb"
   },
   "outputs": [
    {
     "data": {
      "text/plain": [
       "(14828, 6)"
      ]
     },
     "execution_count": 6,
     "metadata": {
      "tags": []
     },
     "output_type": "execute_result"
    }
   ],
   "source": [
    "df.shape"
   ]
  },
  {
   "cell_type": "markdown",
   "metadata": {
    "colab_type": "text",
    "id": "CwxBWaT2RByA"
   },
   "source": [
    "\n",
    "# preprocessing data"
   ]
  },
  {
   "cell_type": "code",
   "execution_count": 0,
   "metadata": {
    "colab": {},
    "colab_type": "code",
    "id": "5H6ay7Is2-sD"
   },
   "outputs": [],
   "source": [
    "sort=df.sort_values('imdb_id')"
   ]
  },
  {
   "cell_type": "code",
   "execution_count": 8,
   "metadata": {
    "colab": {
     "base_uri": "https://localhost:8080/",
     "height": 34
    },
    "colab_type": "code",
    "id": "itp-Q2Ua2-sK",
    "outputId": "d0b887f2-881a-40fa-b8db-e0d9859b06e3"
   },
   "outputs": [
    {
     "data": {
      "text/plain": [
       "(14752, 6)"
      ]
     },
     "execution_count": 8,
     "metadata": {
      "tags": []
     },
     "output_type": "execute_result"
    }
   ],
   "source": [
    "f=sort.drop_duplicates(subset={'title','tags','plot_synopsis'})\n",
    "f.shape"
   ]
  },
  {
   "cell_type": "code",
   "execution_count": 9,
   "metadata": {
    "colab": {
     "base_uri": "https://localhost:8080/",
     "height": 238
    },
    "colab_type": "code",
    "id": "aijDinfmRNDb",
    "outputId": "829918eb-5cc2-456e-c208-3ac831087447"
   },
   "outputs": [
    {
     "data": {
      "text/html": [
       "<div>\n",
       "<style scoped>\n",
       "    .dataframe tbody tr th:only-of-type {\n",
       "        vertical-align: middle;\n",
       "    }\n",
       "\n",
       "    .dataframe tbody tr th {\n",
       "        vertical-align: top;\n",
       "    }\n",
       "\n",
       "    .dataframe thead th {\n",
       "        text-align: right;\n",
       "    }\n",
       "</style>\n",
       "<table border=\"1\" class=\"dataframe\">\n",
       "  <thead>\n",
       "    <tr style=\"text-align: right;\">\n",
       "      <th></th>\n",
       "      <th>imdb_id</th>\n",
       "      <th>title</th>\n",
       "      <th>plot_synopsis</th>\n",
       "      <th>tags</th>\n",
       "      <th>split</th>\n",
       "      <th>synopsis_source</th>\n",
       "    </tr>\n",
       "  </thead>\n",
       "  <tbody>\n",
       "    <tr>\n",
       "      <th>10426</th>\n",
       "      <td>tt6583664</td>\n",
       "      <td>Scapegoat</td>\n",
       "      <td>There are significant differences between this...</td>\n",
       "      <td>revenge, suspenseful</td>\n",
       "      <td>test</td>\n",
       "      <td>wikipedia</td>\n",
       "    </tr>\n",
       "    <tr>\n",
       "      <th>10878</th>\n",
       "      <td>tt0076911</td>\n",
       "      <td>What a Nightmare, Charlie Brown!</td>\n",
       "      <td>One winter day, Charlie Brown is trying to pre...</td>\n",
       "      <td>psychedelic</td>\n",
       "      <td>test</td>\n",
       "      <td>wikipedia</td>\n",
       "    </tr>\n",
       "    <tr>\n",
       "      <th>1776</th>\n",
       "      <td>tt0499448</td>\n",
       "      <td>The Chronicles of Narnia: Prince Caspian</td>\n",
       "      <td>On a cloudless night in Narnia, under an eclip...</td>\n",
       "      <td>good versus evil, violence, fantasy, boring, r...</td>\n",
       "      <td>test</td>\n",
       "      <td>imdb</td>\n",
       "    </tr>\n",
       "    <tr>\n",
       "      <th>335</th>\n",
       "      <td>tt0077235</td>\n",
       "      <td>Big Wednesday</td>\n",
       "      <td>Malibu, California, 1962. Matt the Enforcer (J...</td>\n",
       "      <td>cult, philosophical</td>\n",
       "      <td>test</td>\n",
       "      <td>imdb</td>\n",
       "    </tr>\n",
       "    <tr>\n",
       "      <th>5293</th>\n",
       "      <td>tt0498399</td>\n",
       "      <td>We Own the Night</td>\n",
       "      <td>New York, November 1988: A new breed of narcot...</td>\n",
       "      <td>revenge, suspenseful, murder, violence, flashback</td>\n",
       "      <td>test</td>\n",
       "      <td>imdb</td>\n",
       "    </tr>\n",
       "  </tbody>\n",
       "</table>\n",
       "</div>"
      ],
      "text/plain": [
       "         imdb_id  ... synopsis_source\n",
       "10426  tt6583664  ...       wikipedia\n",
       "10878  tt0076911  ...       wikipedia\n",
       "1776   tt0499448  ...            imdb\n",
       "335    tt0077235  ...            imdb\n",
       "5293   tt0498399  ...            imdb\n",
       "\n",
       "[5 rows x 6 columns]"
      ]
     },
     "execution_count": 9,
     "metadata": {
      "tags": []
     },
     "output_type": "execute_result"
    }
   ],
   "source": [
    "final=f.sort_values('split')\n",
    "final.head()"
   ]
  },
  {
   "cell_type": "code",
   "execution_count": 10,
   "metadata": {
    "colab": {
     "base_uri": "https://localhost:8080/",
     "height": 85
    },
    "colab_type": "code",
    "id": "itY3B9FyVnDA",
    "outputId": "9913a55e-db47-459d-b846-67ef91a7f6cf"
   },
   "outputs": [
    {
     "data": {
      "text/plain": [
       "train    9436\n",
       "test     2957\n",
       "val      2359\n",
       "Name: split, dtype: int64"
      ]
     },
     "execution_count": 10,
     "metadata": {
      "tags": []
     },
     "output_type": "execute_result"
    }
   ],
   "source": [
    "final['split'].value_counts()"
   ]
  },
  {
   "cell_type": "code",
   "execution_count": 11,
   "metadata": {
    "colab": {
     "base_uri": "https://localhost:8080/",
     "height": 204
    },
    "colab_type": "code",
    "id": "sAYnOdgEWJ7n",
    "outputId": "92983fe1-12d3-4eb5-9d4b-bb5d3f77279d"
   },
   "outputs": [
    {
     "data": {
      "text/html": [
       "<div>\n",
       "<style scoped>\n",
       "    .dataframe tbody tr th:only-of-type {\n",
       "        vertical-align: middle;\n",
       "    }\n",
       "\n",
       "    .dataframe tbody tr th {\n",
       "        vertical-align: top;\n",
       "    }\n",
       "\n",
       "    .dataframe thead th {\n",
       "        text-align: right;\n",
       "    }\n",
       "</style>\n",
       "<table border=\"1\" class=\"dataframe\">\n",
       "  <thead>\n",
       "    <tr style=\"text-align: right;\">\n",
       "      <th></th>\n",
       "      <th>imdb_id</th>\n",
       "      <th>title</th>\n",
       "      <th>plot_synopsis</th>\n",
       "      <th>tags</th>\n",
       "      <th>split</th>\n",
       "      <th>synopsis_source</th>\n",
       "    </tr>\n",
       "  </thead>\n",
       "  <tbody>\n",
       "    <tr>\n",
       "      <th>9499</th>\n",
       "      <td>tt0036707</td>\n",
       "      <td>Cheyenne Wildcat</td>\n",
       "      <td>The president of Blue Springs Bank, Jason Hopk...</td>\n",
       "      <td>murder</td>\n",
       "      <td>test</td>\n",
       "      <td>wikipedia</td>\n",
       "    </tr>\n",
       "    <tr>\n",
       "      <th>3941</th>\n",
       "      <td>tt1427298</td>\n",
       "      <td>The Human Race</td>\n",
       "      <td>An exciting, unpredictable and emotionally dra...</td>\n",
       "      <td>violence</td>\n",
       "      <td>test</td>\n",
       "      <td>imdb</td>\n",
       "    </tr>\n",
       "    <tr>\n",
       "      <th>4092</th>\n",
       "      <td>tt0052901</td>\n",
       "      <td>Horrors of the Black Museum</td>\n",
       "      <td>HORRORS OF THE BLACK MUSEUM In London a delive...</td>\n",
       "      <td>murder</td>\n",
       "      <td>test</td>\n",
       "      <td>imdb</td>\n",
       "    </tr>\n",
       "    <tr>\n",
       "      <th>12562</th>\n",
       "      <td>tt1548635</td>\n",
       "      <td>Siren</td>\n",
       "      <td>One week before his wedding day, Jonah and his...</td>\n",
       "      <td>murder</td>\n",
       "      <td>test</td>\n",
       "      <td>wikipedia</td>\n",
       "    </tr>\n",
       "    <tr>\n",
       "      <th>10903</th>\n",
       "      <td>tt0050407</td>\n",
       "      <td>Forty Guns</td>\n",
       "      <td>In the 1880s, Griff Bonnell (Barry Sullivan) a...</td>\n",
       "      <td>murder</td>\n",
       "      <td>test</td>\n",
       "      <td>wikipedia</td>\n",
       "    </tr>\n",
       "  </tbody>\n",
       "</table>\n",
       "</div>"
      ],
      "text/plain": [
       "         imdb_id                        title  ... split synopsis_source\n",
       "9499   tt0036707             Cheyenne Wildcat  ...  test       wikipedia\n",
       "3941   tt1427298               The Human Race  ...  test            imdb\n",
       "4092   tt0052901  Horrors of the Black Museum  ...  test            imdb\n",
       "12562  tt1548635                        Siren  ...  test       wikipedia\n",
       "10903  tt0050407                   Forty Guns  ...  test       wikipedia\n",
       "\n",
       "[5 rows x 6 columns]"
      ]
     },
     "execution_count": 11,
     "metadata": {
      "tags": []
     },
     "output_type": "execute_result"
    }
   ],
   "source": [
    "\n",
    "final[0:2957].tail()"
   ]
  },
  {
   "cell_type": "code",
   "execution_count": 12,
   "metadata": {
    "colab": {
     "base_uri": "https://localhost:8080/",
     "height": 204
    },
    "colab_type": "code",
    "id": "oYPLSp-4W6i0",
    "outputId": "ad2e9e4c-8ebd-43fc-a9ae-25d0e81f1788"
   },
   "outputs": [
    {
     "data": {
      "text/html": [
       "<div>\n",
       "<style scoped>\n",
       "    .dataframe tbody tr th:only-of-type {\n",
       "        vertical-align: middle;\n",
       "    }\n",
       "\n",
       "    .dataframe tbody tr th {\n",
       "        vertical-align: top;\n",
       "    }\n",
       "\n",
       "    .dataframe thead th {\n",
       "        text-align: right;\n",
       "    }\n",
       "</style>\n",
       "<table border=\"1\" class=\"dataframe\">\n",
       "  <thead>\n",
       "    <tr style=\"text-align: right;\">\n",
       "      <th></th>\n",
       "      <th>imdb_id</th>\n",
       "      <th>title</th>\n",
       "      <th>plot_synopsis</th>\n",
       "      <th>tags</th>\n",
       "      <th>split</th>\n",
       "      <th>synopsis_source</th>\n",
       "    </tr>\n",
       "  </thead>\n",
       "  <tbody>\n",
       "    <tr>\n",
       "      <th>258</th>\n",
       "      <td>tt0096320</td>\n",
       "      <td>Twins</td>\n",
       "      <td>Julius Benedict and Vincent Benedict are frate...</td>\n",
       "      <td>comedy, entertaining</td>\n",
       "      <td>train</td>\n",
       "      <td>wikipedia</td>\n",
       "    </tr>\n",
       "    <tr>\n",
       "      <th>10615</th>\n",
       "      <td>tt0095122</td>\n",
       "      <td>The Expendables</td>\n",
       "      <td>The Expendables—leader Barney Ross, knife spec...</td>\n",
       "      <td>cult</td>\n",
       "      <td>train</td>\n",
       "      <td>wikipedia</td>\n",
       "    </tr>\n",
       "    <tr>\n",
       "      <th>6280</th>\n",
       "      <td>tt0096018</td>\n",
       "      <td>Running on Empty</td>\n",
       "      <td>Mike (Terry Serio) is a young man who is a bud...</td>\n",
       "      <td>anti war, romantic, avant garde, dramatic</td>\n",
       "      <td>train</td>\n",
       "      <td>wikipedia</td>\n",
       "    </tr>\n",
       "    <tr>\n",
       "      <th>312</th>\n",
       "      <td>tt0096734</td>\n",
       "      <td>The 'Burbs</td>\n",
       "      <td>The film starts on a small cul-de-sac suburban...</td>\n",
       "      <td>comedy, mystery, gothic, intrigue, insanity, p...</td>\n",
       "      <td>train</td>\n",
       "      <td>imdb</td>\n",
       "    </tr>\n",
       "    <tr>\n",
       "      <th>11311</th>\n",
       "      <td>tt0095626</td>\n",
       "      <td>Messenger of Death</td>\n",
       "      <td>Children play outside a rural Colorado home. T...</td>\n",
       "      <td>good versus evil, revenge, suspenseful, murder...</td>\n",
       "      <td>train</td>\n",
       "      <td>wikipedia</td>\n",
       "    </tr>\n",
       "  </tbody>\n",
       "</table>\n",
       "</div>"
      ],
      "text/plain": [
       "         imdb_id               title  ...  split synopsis_source\n",
       "258    tt0096320               Twins  ...  train       wikipedia\n",
       "10615  tt0095122     The Expendables  ...  train       wikipedia\n",
       "6280   tt0096018    Running on Empty  ...  train       wikipedia\n",
       "312    tt0096734          The 'Burbs  ...  train            imdb\n",
       "11311  tt0095626  Messenger of Death  ...  train       wikipedia\n",
       "\n",
       "[5 rows x 6 columns]"
      ]
     },
     "execution_count": 12,
     "metadata": {
      "tags": []
     },
     "output_type": "execute_result"
    }
   ],
   "source": [
    "final[2957:12393].tail()"
   ]
  },
  {
   "cell_type": "code",
   "execution_count": 0,
   "metadata": {
    "colab": {},
    "colab_type": "code",
    "id": "sTqHQBeR2-sQ"
   },
   "outputs": [],
   "source": [
    "stopwords= set(['br', 'the', 'i', 'me', 'my', 'myself', 'we', 'our', 'ours', 'ourselves', 'you', \"you're\", \"you've\",\\\n",
    "            \"you'll\", \"you'd\", 'your', 'yours', 'yourself', 'yourselves', 'he', 'him', 'his', 'himself', \\\n",
    "            'she', \"she's\", 'her', 'hers', 'herself', 'it', \"it's\", 'its', 'itself', 'they', 'them', 'their',\\\n",
    "            'theirs', 'themselves', 'what', 'which', 'who', 'whom', 'this', 'that', \"that'll\", 'these', 'those', \\\n",
    "            'am', 'is', 'are', 'was', 'were', 'be', 'been', 'being', 'have', 'has', 'had', 'having', 'do', 'does', \\\n",
    "            'did', 'doing', 'a', 'an', 'the', 'and', 'but', 'if', 'or', 'because', 'as', 'until', 'while', 'of', \\\n",
    "            'at', 'by', 'for', 'with', 'about', 'against', 'between', 'into', 'through', 'during', 'before', 'after',\\\n",
    "            'above', 'below', 'to', 'from', 'up', 'down', 'in', 'out', 'on', 'off', 'over', 'under', 'again', 'further',\\\n",
    "            'then', 'once', 'here', 'there', 'when', 'where', 'why', 'how', 'all', 'any', 'both', 'each', 'few', 'more',\\\n",
    "            'most', 'other', 'some', 'such', 'only', 'own', 'same', 'so', 'than', 'too', 'very', \\\n",
    "            's', 't', 'can', 'will', 'just', 'don', \"don't\", 'should', \"should've\", 'now', 'd', 'll', 'm', 'o', 're', \\\n",
    "            've', 'y', 'ain', 'aren', \"aren't\", 'couldn', \"couldn't\", 'didn', \"didn't\", 'doesn', \"doesn't\", 'hadn',\\\n",
    "            \"hadn't\", 'hasn', \"hasn't\", 'haven', \"haven't\", 'isn', \"isn't\", 'ma', 'mightn', \"mightn't\", 'mustn',\\\n",
    "            \"mustn't\", 'needn', \"needn't\", 'shan', \"shan't\", 'shouldn', \"shouldn't\", 'wasn', \"wasn't\", 'weren', \"weren't\", \\\n",
    "            'won', \"won't\", 'wouldn', \"wouldn't\"])"
   ]
  },
  {
   "cell_type": "code",
   "execution_count": 14,
   "metadata": {
    "colab": {
     "base_uri": "https://localhost:8080/",
     "height": 68
    },
    "colab_type": "code",
    "id": "BKAAITMc2-sZ",
    "outputId": "ab3ad313-b403-4cc2-db83-7a0642e3e0f3"
   },
   "outputs": [
    {
     "name": "stdout",
     "output_type": "stream",
     "text": [
      "[nltk_data] Downloading package punkt to /root/nltk_data...\n",
      "[nltk_data]   Unzipping tokenizers/punkt.zip.\n"
     ]
    },
    {
     "name": "stderr",
     "output_type": "stream",
     "text": [
      "100%|██████████| 14752/14752 [02:50<00:00, 86.50it/s]\n"
     ]
    }
   ],
   "source": [
    "import nltk\n",
    "nltk.download('punkt')\n",
    "from tqdm import tqdm\n",
    "from bs4 import BeautifulSoup\n",
    "from nltk.stem.snowball import SnowballStemmer\n",
    "stemmer = SnowballStemmer(\"english\")\n",
    "preprocess_plot=[]\n",
    "for s in tqdm(final['plot_synopsis'].values):\n",
    "    s=re.sub(r'S*\\d\\S*','',s)\n",
    "    s=re.sub('[^A-Za-z]+',' ',s)\n",
    "    soup=BeautifulSoup(s)\n",
    "    s=soup.get_text()\n",
    "    s=re.sub(r'http\\S+','',s)\n",
    "    words=word_tokenize(s.lower())\n",
    "\n",
    "    #Removing all single letter and and stopwords from question exceptt for the letter 'c'\n",
    "    s=' '.join(str(stemmer.stem(j)) for j in words if j not in stopwords and (len(j)!=1 ))\n",
    "    preprocess_plot.append(s.strip())"
   ]
  },
  {
   "cell_type": "code",
   "execution_count": 15,
   "metadata": {
    "colab": {
     "base_uri": "https://localhost:8080/",
     "height": 34
    },
    "colab_type": "code",
    "id": "9U1vZwRf2-sf",
    "outputId": "aeda070d-7048-4db6-ebed-f824a988efe8"
   },
   "outputs": [
    {
     "name": "stderr",
     "output_type": "stream",
     "text": [
      "100%|██████████| 14752/14752 [00:07<00:00, 2097.70it/s]\n"
     ]
    }
   ],
   "source": [
    "\n",
    "preprocess_title=[]\n",
    "for s in tqdm(final['title'].values):\n",
    "    s=re.sub(r'S*\\d\\S*','',s)\n",
    "    s=re.sub('[^A-Za-z]+',' ',s)\n",
    "    soup=BeautifulSoup(s)\n",
    "    s=soup.get_text()\n",
    "    s=re.sub(r'http\\S+','',s)\n",
    "    words=word_tokenize(s.lower())\n",
    "\n",
    "    #Removing all single letter and and stopwords from question exceptt for the letter 'c'\n",
    "    s=' '.join(str(stemmer.stem(j)) for j in words if j not in stopwords and (len(j)!=1 ))\n",
    "    preprocess_title.append(s.strip())"
   ]
  },
  {
   "cell_type": "code",
   "execution_count": 16,
   "metadata": {
    "colab": {
     "base_uri": "https://localhost:8080/",
     "height": 34
    },
    "colab_type": "code",
    "id": "OMZL9HzTSGXN",
    "outputId": "e9042320-a244-40c4-ee8d-6540c217955f"
   },
   "outputs": [
    {
     "name": "stderr",
     "output_type": "stream",
     "text": [
      "100%|██████████| 14752/14752 [00:00<00:00, 199448.06it/s]\n"
     ]
    }
   ],
   "source": [
    "preprocess_tags=[]\n",
    "for s in tqdm(final['tags'].values):\n",
    "    s=re.sub(r' ','',s)\n",
    "    s=re.sub(r',',' ',s)\n",
    "    s=' '.join(e.lower() for e in s.split() )\n",
    "    preprocess_tags.append(s.strip())\n"
   ]
  },
  {
   "cell_type": "code",
   "execution_count": 17,
   "metadata": {
    "colab": {
     "base_uri": "https://localhost:8080/",
     "height": 54
    },
    "colab_type": "code",
    "id": "6VWEej8_2-sj",
    "outputId": "5ce78270-bc0f-4c40-a6b6-d989109fad70"
   },
   "outputs": [
    {
     "data": {
      "text/plain": [
       "'one winter day charli brown tri pretend musher snoopi dog idea get charli brown pull fun ride sled night come comfort indoor charli brown indign snoopi adjust well home life remind snoopi fact arctic dog fed day meal larg consist cold meat raw fish snoopi blanch give look bad come conclus snoopi over civil under dogifi dog make scrumptious dinner five pizza larg milkshak eat snoopi goe bed doghous prompt wake find sled dog iditarod trail sled dog race alaska presum klondik gold rush serum run nome snoopi cruelli mistreat owner seen shadow silhouett speak much deeper version classic peanut adult waa waa waa languag fellow dog run rag deni food water dog take turn bark loud snoopi order let know inde outsid one scene break snow scene sled master stop honki tonk hungri snoopi sneak insid snatch sandwich mug root beer sit near piano feign play washington post march snoopi tri hand game poker keep poker face laugh loud reveal improb win hand five ace caus brawl leav snoopi escap next room find stage paint backdrop pari franc cheer danc howev music chang imperson dancer men throw rotten fruit snoopi thrown bar back sled dog continu mistreat deni food water unabl take anymor one night snoopi break cri done goe convert new life order surviv bare fang fall walk four snoopi challeng lead dog fight win becom alpha male sled dog pack also turn tabl rest dog deni food water eventu lead owner ice cover lake ice crack caus sled dog owner swallow water snoopi find pull hole sink scream life snoopi wake cling side doghous reliev nightmar snoopi wake charli brown recount nightmar pantomim charli brown allow snoopi spend night insid not snoopi help larg ice cream sunda remind arctic experi inde nightmar'"
      ]
     },
     "execution_count": 17,
     "metadata": {
      "tags": []
     },
     "output_type": "execute_result"
    }
   ],
   "source": [
    "preprocess_plot[1]"
   ]
  },
  {
   "cell_type": "code",
   "execution_count": 18,
   "metadata": {
    "colab": {
     "base_uri": "https://localhost:8080/",
     "height": 34
    },
    "colab_type": "code",
    "id": "aKUf9DCzUWCO",
    "outputId": "0608f4da-edbb-4e23-cc78-6155e32e89d6"
   },
   "outputs": [
    {
     "data": {
      "text/plain": [
       "'goodversusevil violence fantasy boring romantic'"
      ]
     },
     "execution_count": 18,
     "metadata": {
      "tags": []
     },
     "output_type": "execute_result"
    }
   ],
   "source": [
    "preprocess_tags[2]"
   ]
  },
  {
   "cell_type": "code",
   "execution_count": 19,
   "metadata": {
    "colab": {
     "base_uri": "https://localhost:8080/",
     "height": 34
    },
    "colab_type": "code",
    "id": "sq8vNQphTObj",
    "outputId": "2f9557c4-c486-4eeb-d7fc-a59bb8ab76e5"
   },
   "outputs": [
    {
     "data": {
      "text/plain": [
       "'boring murder dramatic violence flashback claustrophobic sentimental'"
      ]
     },
     "execution_count": 19,
     "metadata": {
      "tags": []
     },
     "output_type": "execute_result"
    }
   ],
   "source": [
    "preprocess_tags[5]"
   ]
  },
  {
   "cell_type": "markdown",
   "metadata": {
    "colab_type": "text",
    "id": "Cfh7FTt6RByd"
   },
   "source": [
    "# choosing correct tags and vectorizing them"
   ]
  },
  {
   "cell_type": "code",
   "execution_count": 0,
   "metadata": {
    "colab": {},
    "colab_type": "code",
    "id": "OwH2G0fB2-sq"
   },
   "outputs": [],
   "source": [
    "vectorizer = CountVectorizer(tokenizer = lambda x: x.split(), binary='true')\n",
    "multilabel_y = vectorizer.fit_transform(preprocess_tags)"
   ]
  },
  {
   "cell_type": "code",
   "execution_count": 21,
   "metadata": {
    "colab": {
     "base_uri": "https://localhost:8080/",
     "height": 34
    },
    "colab_type": "code",
    "id": "NXc6F1BpUxNQ",
    "outputId": "9657bfe6-5576-4d8d-859a-23110b69c9a9"
   },
   "outputs": [
    {
     "data": {
      "text/plain": [
       "(14752, 71)"
      ]
     },
     "execution_count": 21,
     "metadata": {
      "tags": []
     },
     "output_type": "execute_result"
    }
   ],
   "source": [
    "multilabel_y.shape"
   ]
  },
  {
   "cell_type": "markdown",
   "metadata": {
    "colab_type": "text",
    "id": "k-XAywn_RBy2"
   },
   "source": [
    "# train cv and test split"
   ]
  },
  {
   "cell_type": "code",
   "execution_count": 0,
   "metadata": {
    "colab": {},
    "colab_type": "code",
    "id": "Nnnplwnu2-tC"
   },
   "outputs": [],
   "source": [
    "x_train1=preprocess_plot[2957:12393]\n",
    "x_test1=preprocess_plot[:2957]\n",
    "x_cv1=preprocess_plot[12393:]\n",
    "\n",
    "x_train2=preprocess_title[2957:12393]\n",
    "x_test2=preprocess_title[:2957]\n",
    "x_cv2=preprocess_title[12393:]\n",
    "\n",
    "y_train = multilabel_y[2957:12393]\n",
    "y_test = multilabel_y[:2957]\n",
    "y_cv=   multilabel_y[12393:]"
   ]
  },
  {
   "cell_type": "markdown",
   "metadata": {
    "colab_type": "text",
    "id": "As0hTJB7RBzX"
   },
   "source": [
    "# 200 dim word2vec of plot"
   ]
  },
  {
   "cell_type": "code",
   "execution_count": 0,
   "metadata": {
    "colab": {},
    "colab_type": "code",
    "id": "-vN0cgk02-t1"
   },
   "outputs": [],
   "source": [
    "from gensim.models import Word2Vec\n",
    "from sklearn.feature_extraction.text import TfidfVectorizer\n",
    "trlst=[]\n",
    "for s in x_train1:\n",
    "    trlst.append(s.split())"
   ]
  },
  {
   "cell_type": "code",
   "execution_count": 0,
   "metadata": {
    "colab": {},
    "colab_type": "code",
    "id": "nCf1aStn2-t5"
   },
   "outputs": [],
   "source": [
    "w2vtr=Word2Vec(trlst,size=200,min_count=5, workers=4)"
   ]
  },
  {
   "cell_type": "code",
   "execution_count": 0,
   "metadata": {
    "colab": {},
    "colab_type": "code",
    "id": "mwhelILP2-t-"
   },
   "outputs": [],
   "source": [
    "w2v_wordstr = list(w2vtr.wv.vocab)"
   ]
  },
  {
   "cell_type": "code",
   "execution_count": 0,
   "metadata": {
    "colab": {},
    "colab_type": "code",
    "id": "ndkq2v5y2-uA"
   },
   "outputs": [],
   "source": [
    "model= TfidfVectorizer(min_df=10)\n",
    "tfidf=model.fit_transform(x_train1)\n",
    "dictonary=dict(zip(model.get_feature_names(),model.idf_))\n"
   ]
  },
  {
   "cell_type": "code",
   "execution_count": 0,
   "metadata": {
    "colab": {
     "base_uri": "https://localhost:8080/",
     "height": 34
    },
    "colab_type": "code",
    "id": "Jxy7QFXI2-uE",
    "outputId": "68d9b3be-86b9-4cfd-acf6-ab9cf12570c7",
    "scrolled": false
   },
   "outputs": [
    {
     "name": "stderr",
     "output_type": "stream",
     "text": [
      "100%|██████████| 9436/9436 [23:37<00:00,  6.66it/s]\n"
     ]
    }
   ],
   "source": [
    "tr=[]\n",
    "x= model.get_feature_names()\n",
    "for s in tqdm(x_train1):\n",
    "    a=s.split()\n",
    "    vec= np.zeros(200)\n",
    "    sum=0\n",
    "    for b in a:\n",
    "        if b in w2v_wordstr and b in x:\n",
    "            tfidf=dictonary[b]*(a.count(b)/len(b))\n",
    "            vec+=w2vtr.wv[b]*tfidf\n",
    "            sum+=tfidf\n",
    "    if sum != 0:\n",
    "        vec=vec/sum\n",
    "        \n",
    "    tr.append(vec)        \n",
    "        \n",
    "        "
   ]
  },
  {
   "cell_type": "code",
   "execution_count": 0,
   "metadata": {
    "colab": {
     "base_uri": "https://localhost:8080/",
     "height": 34
    },
    "colab_type": "code",
    "id": "rvSUmT2M2-uH",
    "outputId": "70d566a7-98f1-4f6f-dd12-bfe038895f34"
   },
   "outputs": [
    {
     "name": "stderr",
     "output_type": "stream",
     "text": [
      "100%|██████████| 2359/2359 [06:11<00:00,  7.60it/s]\n"
     ]
    }
   ],
   "source": [
    "cv=[]\n",
    "for s in tqdm(x_cv1):\n",
    "    a=s.split()\n",
    "    vec= np.zeros(200)\n",
    "    sum=0\n",
    "    for b in a:\n",
    "        if b in w2v_wordstr and b in x:\n",
    "            tfidf=dictonary[b]*(a.count(b)/len(b))\n",
    "            vec+=w2vtr.wv[b]*tfidf\n",
    "            sum+=tfidf\n",
    "    if sum != 0:\n",
    "        vec=vec/sum\n",
    "        \n",
    "    cv.append(vec)        \n",
    "        "
   ]
  },
  {
   "cell_type": "code",
   "execution_count": 0,
   "metadata": {
    "colab": {
     "base_uri": "https://localhost:8080/",
     "height": 34
    },
    "colab_type": "code",
    "id": "tb7lDl9c2-uL",
    "outputId": "855d3c41-4af4-4364-e974-2a93dae1a235"
   },
   "outputs": [
    {
     "name": "stderr",
     "output_type": "stream",
     "text": [
      "100%|██████████| 2957/2957 [07:31<00:00,  6.51it/s]\n"
     ]
    }
   ],
   "source": [
    "test=[]\n",
    "for s in tqdm(x_test1):\n",
    "    a=s.split()\n",
    "    vec= np.zeros(200)\n",
    "    sum=0\n",
    "    for b in a:\n",
    "        if b in w2v_wordstr and b in x:\n",
    "            tfidf=dictonary[b]*(a.count(b)/len(b))\n",
    "            vec+=w2vtr.wv[b]*tfidf\n",
    "            sum+=tfidf\n",
    "    if sum != 0:\n",
    "        vec=vec/sum\n",
    "        \n",
    "    test.append(vec)        \n",
    "        "
   ]
  },
  {
   "cell_type": "markdown",
   "metadata": {
    "colab_type": "text",
    "id": "58nxraqd2-ub"
   },
   "source": [
    "# tfidf"
   ]
  },
  {
   "cell_type": "code",
   "execution_count": 0,
   "metadata": {
    "colab": {},
    "colab_type": "code",
    "id": "Bf0on-cnLBHK"
   },
   "outputs": [],
   "source": [
    "vectorizer =TfidfVectorizer(min_df=10,ngram_range=(1,3),max_features=20000)\n",
    "x_train_multilabel1 = vectorizer.fit_transform(x_train1)\n",
    "x_cv_multilabel1 = vectorizer.transform(x_cv1)\n",
    "x_test_multilabel1 = vectorizer.transform(x_test1)"
   ]
  },
  {
   "cell_type": "code",
   "execution_count": 0,
   "metadata": {
    "colab": {
     "base_uri": "https://localhost:8080/",
     "height": 68
    },
    "colab_type": "code",
    "id": "rM4S9Nw5LbId",
    "outputId": "c45381a8-02b0-4700-92b2-6ecdbf8c81ab"
   },
   "outputs": [
    {
     "name": "stdout",
     "output_type": "stream",
     "text": [
      "Dimensions of train data X: (9436, 20000) Y : (9436, 71)\n",
      "Dimensions of cv data X: (2359, 20000) Y : (2359, 71)\n",
      "Dimensions of test data X: (2957, 20000) Y: (2957, 71)\n"
     ]
    }
   ],
   "source": [
    "print(\"Dimensions of train data X:\",x_train_multilabel1.shape, \"Y :\",y_train.shape)\n",
    "print(\"Dimensions of cv data X:\",x_cv_multilabel1.shape, \"Y :\",y_cv.shape)\n",
    "print(\"Dimensions of test data X:\",x_test_multilabel1.shape,\"Y:\",y_test.shape)"
   ]
  },
  {
   "cell_type": "markdown",
   "metadata": {
    "colab_type": "text",
    "id": "HMnfeOYyRB0e"
   },
   "source": [
    "# fourgram of plot"
   ]
  },
  {
   "cell_type": "code",
   "execution_count": 0,
   "metadata": {
    "colab": {},
    "colab_type": "code",
    "id": "gL7HVhWv2-u3"
   },
   "outputs": [],
   "source": [
    "vectorizer =TfidfVectorizer(min_df=5,ngram_range=(4,4),max_features=5000)\n",
    "x_train_multilabel2 = vectorizer.fit_transform(x_train1)\n",
    "x_cv_multilabel2 = vectorizer.transform(x_cv1)\n",
    "x_test_multilabel2 = vectorizer.transform(x_test1)"
   ]
  },
  {
   "cell_type": "code",
   "execution_count": 0,
   "metadata": {
    "colab": {
     "base_uri": "https://localhost:8080/",
     "height": 68
    },
    "colab_type": "code",
    "id": "KWx9z-tI2-u_",
    "outputId": "4f975315-aeb9-4199-fa62-9cef08225f79"
   },
   "outputs": [
    {
     "name": "stdout",
     "output_type": "stream",
     "text": [
      "Dimensions of train data X: (9436, 3590) Y : (9436, 71)\n",
      "Dimensions of cv data X: (2359, 3590) Y : (2359, 71)\n",
      "Dimensions of test data X: (2957, 3590) Y: (2957, 71)\n"
     ]
    }
   ],
   "source": [
    "print(\"Dimensions of train data X:\",x_train_multilabel2.shape, \"Y :\",y_train.shape)\n",
    "print(\"Dimensions of cv data X:\",x_cv_multilabel2.shape, \"Y :\",y_cv.shape)\n",
    "print(\"Dimensions of test data X:\",x_test_multilabel2.shape,\"Y:\",y_test.shape)"
   ]
  },
  {
   "cell_type": "markdown",
   "metadata": {
    "colab_type": "text",
    "id": "XpI6_uneRB0k"
   },
   "source": [
    "# unigram and bigram of title"
   ]
  },
  {
   "cell_type": "code",
   "execution_count": 0,
   "metadata": {
    "colab": {},
    "colab_type": "code",
    "id": "tpXS7NgflzBv"
   },
   "outputs": [],
   "source": [
    "vectorizer =TfidfVectorizer(ngram_range=(1,2),max_features=10000)\n",
    "x_train_multilabel3 = vectorizer.fit_transform(x_train2)\n",
    "x_cv_multilabel3 = vectorizer.transform(x_cv2)\n",
    "x_test_multilabel3 = vectorizer.transform(x_test2)"
   ]
  },
  {
   "cell_type": "code",
   "execution_count": 0,
   "metadata": {
    "colab": {
     "base_uri": "https://localhost:8080/",
     "height": 68
    },
    "colab_type": "code",
    "id": "oMwsgq3jwisI",
    "outputId": "e86f6c52-b8a1-4753-ecdf-1de8daf1f24f"
   },
   "outputs": [
    {
     "name": "stdout",
     "output_type": "stream",
     "text": [
      "Dimensions of train data X: (9436, 10000) Y : (9436, 71)\n",
      "Dimensions of cv data X: (2359, 10000) Y : (2359, 71)\n",
      "Dimensions of test data X: (2957, 10000) Y: (2957, 71)\n"
     ]
    }
   ],
   "source": [
    "print(\"Dimensions of train data X:\",x_train_multilabel3.shape, \"Y :\",y_train.shape)\n",
    "print(\"Dimensions of cv data X:\",x_cv_multilabel3.shape, \"Y :\",y_cv.shape)\n",
    "print(\"Dimensions of test data X:\",x_test_multilabel3.shape,\"Y:\",y_test.shape)"
   ]
  },
  {
   "cell_type": "markdown",
   "metadata": {
    "colab_type": "text",
    "id": "fprl0HRAvs2e"
   },
   "source": [
    "# char gram of plot"
   ]
  },
  {
   "cell_type": "code",
   "execution_count": 0,
   "metadata": {
    "colab": {},
    "colab_type": "code",
    "id": "9B2WxGuAU3jX"
   },
   "outputs": [],
   "source": [
    "vectorizer =TfidfVectorizer(min_df=10,analyzer='char',ngram_range=(4,6),max_features=20000)\n",
    "x_train_multilabel4 = vectorizer.fit_transform(x_train1)\n",
    "x_cv_multilabel4 = vectorizer.transform(x_cv1)\n",
    "x_test_multilabel4 = vectorizer.transform(x_test1)"
   ]
  },
  {
   "cell_type": "markdown",
   "metadata": {
    "colab_type": "text",
    "id": "Po6k4K05_Tmg"
   },
   "source": [
    "# matrix factorization using nmf"
   ]
  },
  {
   "cell_type": "code",
   "execution_count": 0,
   "metadata": {
    "colab": {},
    "colab_type": "code",
    "id": "hoSB7cMzw7gm"
   },
   "outputs": [],
   "source": [
    "vectorizer =CountVectorizer(min_df=10)\n",
    "x_train_multilabl6 = vectorizer.fit_transform(x_train1)\n",
    "x_cv_multilabl6 = vectorizer.transform(x_cv1)\n",
    "x_test_multilabl6 = vectorizer.transform(x_test1)"
   ]
  },
  {
   "cell_type": "code",
   "execution_count": 0,
   "metadata": {
    "colab": {
     "base_uri": "https://localhost:8080/",
     "height": 68
    },
    "colab_type": "code",
    "id": "860rTJrzxHzK",
    "outputId": "69437b75-ce18-4c0f-97d0-15425275f3c3"
   },
   "outputs": [
    {
     "name": "stdout",
     "output_type": "stream",
     "text": [
      "Dimensions of train data X: (9436, 13780) Y : (9436, 71)\n",
      "Dimensions of cv data X: (2359, 13780) Y : (2359, 71)\n",
      "Dimensions of test data X: (2957, 13780) Y: (2957, 71)\n"
     ]
    }
   ],
   "source": [
    "print(\"Dimensions of train data X:\",x_train_multilabl6.shape, \"Y :\",y_train.shape)\n",
    "print(\"Dimensions of cv data X:\",x_cv_multilabl6.shape, \"Y :\",y_cv.shape)\n",
    "print(\"Dimensions of test data X:\",x_test_multilabl6.shape,\"Y:\",y_test.shape)"
   ]
  },
  {
   "cell_type": "code",
   "execution_count": 0,
   "metadata": {
    "colab": {},
    "colab_type": "code",
    "id": "2vHCl7VYxZPU"
   },
   "outputs": [],
   "source": [
    "from sklearn.decomposition import NMF\n",
    "nmf=NMF(n_components=200)\n",
    "tr1=nmf.fit_transform(x_train_multilabl6)\n",
    "cv1=nmf.transform(x_cv_multilabl6)\n",
    "test1=nmf.transform(x_test_multilabl6)"
   ]
  },
  {
   "cell_type": "markdown",
   "metadata": {
    "colab_type": "text",
    "id": "qGM5FzIJRB0p"
   },
   "source": [
    "## (unigram+bigram+trigram+fourgram+word2vec) of plot+unigram and bigram of title+nmf of plot"
   ]
  },
  {
   "cell_type": "code",
   "execution_count": 0,
   "metadata": {
    "colab": {
     "base_uri": "https://localhost:8080/",
     "height": 68
    },
    "colab_type": "code",
    "id": "L0iz-F2o2-vQ",
    "outputId": "f61c292b-bde6-4ebf-fa98-a135530b1986"
   },
   "outputs": [
    {
     "name": "stdout",
     "output_type": "stream",
     "text": [
      "(9436, 54000)\n",
      "(2359, 54000)\n",
      "(2957, 54000)\n"
     ]
    }
   ],
   "source": [
    "from scipy.sparse import hstack\n",
    "x_train_multilabl = hstack([x_train_multilabel1,x_train_multilabel2,x_train_multilabel3,x_train_multilabel4,tr,tr1])\n",
    "print(x_train_multilabl.shape)\n",
    "x_cv_multilabl = hstack([x_cv_multilabel1,x_cv_multilabel2,x_cv_multilabel3,x_cv_multilabel4,cv,cv1])\n",
    "print(x_cv_multilabl.shape)\n",
    "\n",
    "x_test_multilabl = hstack([x_test_multilabel1,x_test_multilabel2,x_test_multilabel3,x_test_multilabel4,test,test1])\n",
    "print(x_test_multilabl.shape)"
   ]
  },
  {
   "cell_type": "markdown",
   "metadata": {
    "colab_type": "text",
    "id": "EhZt1fwbRB0z"
   },
   "source": [
    "# logistic regression"
   ]
  },
  {
   "cell_type": "code",
   "execution_count": 0,
   "metadata": {
    "colab": {
     "base_uri": "https://localhost:8080/",
     "height": 238
    },
    "colab_type": "code",
    "id": "EkMgOGV-2-vo",
    "outputId": "3a5ddbff-ebc0-4849-a0a5-77e43a8c7f11"
   },
   "outputs": [
    {
     "name": "stdout",
     "output_type": "stream",
     "text": [
      "Micro-average quality numbers for C= 0.01\n",
      " F1-measure for train: 0.3378\n",
      " F1-measure for cv: 0.3405\n",
      "Micro-average quality numbers for C= 0.1\n",
      " F1-measure for train: 0.3867\n",
      " F1-measure for cv: 0.3786\n",
      "Micro-average quality numbers for C= 1\n",
      " F1-measure for train: 0.5037\n",
      " F1-measure for cv: 0.4015\n",
      "Micro-average quality numbers for C= 10\n",
      " F1-measure for train: 0.9620\n",
      " F1-measure for cv: 0.3400\n",
      "Time taken to run this cell : 0:38:36.247697\n"
     ]
    }
   ],
   "source": [
    "start = datetime.now()\n",
    "alpha=[0.01,0.1,1,10]\n",
    "for j in alpha:\n",
    "    classifier_1 = OneVsRestClassifier(LogisticRegression(C=j,penalty='l1',tol=0.001))\n",
    "    classifier_1.fit(x_train_multilabl, y_train)\n",
    "    y_pred_prob = classifier_1.predict_proba(x_train_multilabl)\n",
    "    i=0.2\n",
    "    predictions_1 = (y_pred_prob >= i).astype(int)\n",
    "    y_pred_probc = classifier_1.predict_proba(x_cv_multilabl)\n",
    " \n",
    "    predictions_2 = (y_pred_probc >= i).astype(int)\n",
    "    \n",
    "    f1 = f1_score(y_train, predictions_1, average='micro')\n",
    "    f2 = f1_score(y_cv, predictions_2, average='micro')\n",
    "    print(\"Micro-average quality numbers for C=\",j)\n",
    "    print(\" F1-measure for train: {:.4f}\".format( f1))\n",
    "    print(\" F1-measure for cv: {:.4f}\".format( f2))\n",
    "print(\"Time taken to run this cell :\", datetime.now() - start)"
   ]
  },
  {
   "cell_type": "markdown",
   "metadata": {
    "colab_type": "text",
    "id": "feOTMJu76ekC"
   },
   "source": [
    "# decreasing threshold on test"
   ]
  },
  {
   "cell_type": "code",
   "execution_count": 0,
   "metadata": {
    "colab": {
     "base_uri": "https://localhost:8080/",
     "height": 51
    },
    "colab_type": "code",
    "id": "qxpXCaelar_D",
    "outputId": "af162cf3-e2db-40ad-ab05-57b9dc0a1dda"
   },
   "outputs": [
    {
     "name": "stdout",
     "output_type": "stream",
     "text": [
      "Micro-average quality numbers for C=0.01 and threshold= 0.2\n",
      " F1-measure for test: 0.3979\n"
     ]
    }
   ],
   "source": [
    "classifier_1 = OneVsRestClassifier(LogisticRegression(C=1,penalty='l2',tol=0.001))\n",
    "classifier_1.fit(x_train_multilabl, y_train)\n",
    "y_pred_prob = classifier_1.predict_proba(x_test_multilabl)\n",
    "i=0.2\n",
    "y_pred_new = (y_pred_prob >= i).astype(int)\n",
    "f2 = f1_score(y_test, y_pred_new, average='micro')\n",
    "print(\"Micro-average quality numbers for C=0.01 and threshold=\",i)\n",
    "print(\" F1-measure for test: {:.4f}\".format( f2))"
   ]
  },
  {
   "cell_type": "markdown",
   "metadata": {
    "colab_type": "text",
    "id": "cuI6q7mrRB0v"
   },
   "source": [
    "# naive bayes"
   ]
  },
  {
   "cell_type": "code",
   "execution_count": 0,
   "metadata": {
    "colab": {
     "base_uri": "https://localhost:8080/",
     "height": 68
    },
    "colab_type": "code",
    "id": "QFKgjwpHRdWb",
    "outputId": "78b890c3-3c04-4ed8-fb5c-6236bf59a898"
   },
   "outputs": [
    {
     "name": "stdout",
     "output_type": "stream",
     "text": [
      "(9436, 34000)\n",
      "(2359, 34000)\n",
      "(2957, 34000)\n"
     ]
    }
   ],
   "source": [
    "x_train_multilabl = hstack([x_train_multilabel1,x_train_multilabel2,x_train_multilabel3,tr,tr1,tr2])\n",
    "print(x_train_multilabl.shape)\n",
    "x_cv_multilabl = hstack([x_cv_multilabel1,x_cv_multilabel2,x_cv_multilabel3,cv,cv1,cv2])\n",
    "print(x_cv_multilabl.shape)\n",
    "\n",
    "x_test_multilabl = hstack([x_test_multilabel1,x_test_multilabel2,x_test_multilabel3,test,test1,test2])\n",
    "print(x_test_multilabl.shape)"
   ]
  },
  {
   "cell_type": "code",
   "execution_count": 0,
   "metadata": {
    "colab": {
     "base_uri": "https://localhost:8080/",
     "height": 289
    },
    "colab_type": "code",
    "id": "6IMLRmMr2-vV",
    "outputId": "0791d3f7-551c-4a7b-9d81-ef1f5961cc42"
   },
   "outputs": [
    {
     "name": "stdout",
     "output_type": "stream",
     "text": [
      "Micro-average quality numbers for C= 0.001\n",
      " F1-measure for train: 0.6216\n",
      " F1-measure for cv: 0.3447\n",
      "Micro-average quality numbers for C= 0.01\n",
      " F1-measure for train: 0.5674\n",
      " F1-measure for cv: 0.3393\n",
      "Micro-average quality numbers for C= 0.1\n",
      " F1-measure for train: 0.4540\n",
      " F1-measure for cv: 0.3024\n",
      "Micro-average quality numbers for C= 1\n",
      " F1-measure for train: 0.3152\n",
      " F1-measure for cv: 0.2559\n",
      "Micro-average quality numbers for C= 10\n",
      " F1-measure for train: 0.2087\n",
      " F1-measure for cv: 0.1847\n",
      "Time taken to run this cell : 0:04:25.800332\n"
     ]
    }
   ],
   "source": [
    "from sklearn.naive_bayes import BernoulliNB\n",
    "start = datetime.now()\n",
    "alpha=[0.001,0.01,0.1,1,10]\n",
    "for i in alpha:\n",
    "    classifier_1 = OneVsRestClassifier(BernoulliNB(alpha=i))\n",
    "    classifier_1.fit(x_train_multilabl, y_train)\n",
    "    predictions_1 = classifier_1.predict(x_train_multilabl)\n",
    "    predictions_2 = classifier_1.predict(x_cv_multilabl)\n",
    "    f1 = f1_score(y_train, predictions_1, average='micro')\n",
    "    f2 = f1_score(y_cv, predictions_2, average='micro')\n",
    "    print(\"Micro-average quality numbers for C=\",i)\n",
    "    print(\" F1-measure for train: {:.4f}\".format( f1))\n",
    "    print(\" F1-measure for cv: {:.4f}\".format( f2))\n",
    "print(\"Time taken to run this cell :\", datetime.now() - start)"
   ]
  },
  {
   "cell_type": "code",
   "execution_count": 0,
   "metadata": {
    "colab": {
     "base_uri": "https://localhost:8080/",
     "height": 51
    },
    "colab_type": "code",
    "id": "KGtEZK1TZhJb",
    "outputId": "1874c6e1-585d-4d1c-babd-2375021bb4e1"
   },
   "outputs": [
    {
     "name": "stdout",
     "output_type": "stream",
     "text": [
      "Micro-average quality numbers for C=0.001 \n",
      " F1-measure for test: 0.3454\n"
     ]
    }
   ],
   "source": [
    "classifier_1 = OneVsRestClassifier(BernoulliNB(alpha=0.001))\n",
    "classifier_1.fit(x_train_multilabl, y_train)\n",
    "y_pred_prob = classifier_1.predict_proba(x_test_multilabl)\n",
    "y_pred_new = (y_pred_prob >= 0.01).astype(int)\n",
    "f2 = f1_score(y_test, y_pred_new, average='micro')\n",
    "print(\"Micro-average quality numbers for C=0.001 \")\n",
    "print(\" F1-measure for test: {:.4f}\".format( f2))"
   ]
  },
  {
   "cell_type": "markdown",
   "metadata": {
    "colab_type": "text",
    "id": "A7Kpbu_PUHFc"
   },
   "source": [
    "# using deep learning technique"
   ]
  },
  {
   "cell_type": "code",
   "execution_count": 0,
   "metadata": {
    "colab": {},
    "colab_type": "code",
    "id": "bLgfK0EIUNFw"
   },
   "outputs": [],
   "source": [
    "count_vect = CountVectorizer(min_df=10) #in scikit-learn CountVectorizer(min_df=10, max_features=500) \n",
    "X=count_vect.fit_transform(x_train1)\n",
    "top_feat=count_vect.get_feature_names()"
   ]
  },
  {
   "cell_type": "code",
   "execution_count": 0,
   "metadata": {
    "colab": {
     "base_uri": "https://localhost:8080/",
     "height": 34
    },
    "colab_type": "code",
    "id": "Imrk3w7OYeIN",
    "outputId": "759f744d-3fbe-421e-c85c-c17f59a40c86"
   },
   "outputs": [
    {
     "data": {
      "text/plain": [
       "(9436, 13780)"
      ]
     },
     "execution_count": 24,
     "metadata": {
      "tags": []
     },
     "output_type": "execute_result"
    }
   ],
   "source": [
    "X.shape"
   ]
  },
  {
   "cell_type": "code",
   "execution_count": 0,
   "metadata": {
    "colab": {},
    "colab_type": "code",
    "id": "Vn0MLh1GUcUw"
   },
   "outputs": [],
   "source": [
    "#placing  words in reviews in a list\n",
    "word=[]\n",
    "for sent in x_train1:\n",
    "    wrds = sent.split()\n",
    "    for wrd in wrds:\n",
    "        word.append(wrd)\n",
    "    "
   ]
  },
  {
   "cell_type": "code",
   "execution_count": 0,
   "metadata": {
    "colab": {},
    "colab_type": "code",
    "id": "_HjN0MPHUhY1"
   },
   "outputs": [],
   "source": [
    "a=np.arange(13780)\n",
    "feat10k=dict( zip( top_feat, a))"
   ]
  },
  {
   "cell_type": "code",
   "execution_count": 0,
   "metadata": {
    "colab": {},
    "colab_type": "code",
    "id": "8Ou8uMoVUjnR"
   },
   "outputs": [],
   "source": [
    "feat=np.zeros(13780,dtype='int')\n",
    "for wrd in word:\n",
    "  if feat10k.get(wrd,-1)>0:\n",
    "    feat[feat10k[wrd]]+=1\n",
    "     "
   ]
  },
  {
   "cell_type": "code",
   "execution_count": 0,
   "metadata": {
    "colab": {},
    "colab_type": "code",
    "id": "SJs_r0CmUmKF"
   },
   "outputs": [],
   "source": [
    "sort_feat=np.argsort(feat)\n",
    "sorted_list=[]\n",
    "for i in sort_feat:\n",
    "    sorted_list.append(top_feat[i])\n",
    "    \n",
    "    "
   ]
  },
  {
   "cell_type": "code",
   "execution_count": 0,
   "metadata": {
    "colab": {},
    "colab_type": "code",
    "id": "9fvip9mAUodq"
   },
   "outputs": [],
   "source": [
    "sort_freq=dict( zip( sorted_list, sort_feat))"
   ]
  },
  {
   "cell_type": "code",
   "execution_count": 0,
   "metadata": {
    "colab": {},
    "colab_type": "code",
    "id": "NAFfgTgqUpUt"
   },
   "outputs": [],
   "source": [
    "ranktr=[]\n",
    "for sent in x_train1:\n",
    "    lst=[]\n",
    "    wrds = sent.split()\n",
    "    for wrd in wrds:\n",
    "        if feat10k.get(wrd,-1)>0:\n",
    "            lst.append(sort_freq[wrd])\n",
    "    ranktr.append(lst)   "
   ]
  },
  {
   "cell_type": "code",
   "execution_count": 0,
   "metadata": {
    "colab": {},
    "colab_type": "code",
    "id": "dBVdLOJIUsUH"
   },
   "outputs": [],
   "source": [
    "rankcv=[]\n",
    "for sent in x_cv1:\n",
    "    lst=[]\n",
    "    wrds = sent.split()\n",
    "    for wrd in wrds:\n",
    "        if feat10k.get(wrd,-1)>0:\n",
    "            lst.append(sort_freq[wrd])\n",
    "    rankcv.append(lst)   "
   ]
  },
  {
   "cell_type": "code",
   "execution_count": 0,
   "metadata": {
    "colab": {},
    "colab_type": "code",
    "id": "hb0SmeoLUwtK"
   },
   "outputs": [],
   "source": [
    "ranktest=[]\n",
    "for sent in x_test1:\n",
    "    lst=[]\n",
    "    wrds = sent.split()\n",
    "    for wrd in wrds:\n",
    "        if feat10k.get(wrd,-1)>0:\n",
    "            lst.append(sort_freq[wrd])\n",
    "    ranktest.append(lst)   "
   ]
  },
  {
   "cell_type": "code",
   "execution_count": 0,
   "metadata": {
    "colab": {},
    "colab_type": "code",
    "id": "_QHoQyUAUzAQ"
   },
   "outputs": [],
   "source": [
    "a=max(x_train1, key=len).strip()"
   ]
  },
  {
   "cell_type": "code",
   "execution_count": 0,
   "metadata": {
    "colab": {
     "base_uri": "https://localhost:8080/",
     "height": 34
    },
    "colab_type": "code",
    "id": "tZ5FMeXEU3Mm",
    "outputId": "fd010237-c5b3-4907-c243-2b63189c7a03"
   },
   "outputs": [
    {
     "name": "stderr",
     "output_type": "stream",
     "text": [
      "Using TensorFlow backend.\n"
     ]
    }
   ],
   "source": [
    "from keras.models import Sequential\n",
    "from keras.layers import Dense\n",
    "from keras.layers import LSTM\n",
    "from keras.layers import Bidirectional\n",
    "from keras.layers.embeddings import Embedding\n",
    "from keras.preprocessing import sequence\n",
    "# fix random seed for reproducibility\n",
    "np.random.seed(7)\n"
   ]
  },
  {
   "cell_type": "code",
   "execution_count": 0,
   "metadata": {
    "colab": {
     "base_uri": "https://localhost:8080/",
     "height": 1000
    },
    "colab_type": "code",
    "id": "IbRcOGx0U5rA",
    "outputId": "ed98e0e1-3911-4838-9ce6-458016db7d23"
   },
   "outputs": [
    {
     "name": "stdout",
     "output_type": "stream",
     "text": [
      "(9436, 1000)\n",
      "[    0     0     0     0     0     0     0     0     0     0     0     0\n",
      "     0     0     0     0     0     0     0     0     0     0     0     0\n",
      "     0     0     0     0     0     0     0     0     0     0     0     0\n",
      "     0     0     0     0     0     0     0     0     0     0     0     0\n",
      "     0     0     0     0     0     0     0     0     0     0     0     0\n",
      "     0     0     0     0     0     0     0     0     0     0     0     0\n",
      "     0     0     0     0     0     0     0     0     0     0     0     0\n",
      "     0     0     0     0     0     0     0     0     0     0     0     0\n",
      "     0     0     0     0     0     0     0     0     0     0     0     0\n",
      "     0     0     0     0     0     0     0     0     0     0     0     0\n",
      "     0     0     0     0     0     0     0     0     0     0     0     0\n",
      "     0     0     0     0     0     0     0     0     0     0     0     0\n",
      "     0     0     0     0     0     0     0     0     0     0     0     0\n",
      "     0     0     0     0     0     0     0     0     0     0     0     0\n",
      "     0     0     0     0     0     0     0     0     0     0     0     0\n",
      "     0     0     0     0     0     0     0     0     0     0     0     0\n",
      "     0     0     0     0     0     0     0     0     0     0     0     0\n",
      "     0     0     0     0     0     0     0     0     0     0     0     0\n",
      "     0     0     0     0     0     0     0     0     0     0     0     0\n",
      "     0     0     0     0     0     0     0     0     0     0  4518  8603\n",
      "  4693  2203  7121 13621  3694 12193  4396  6686  6038 10776  2120 12227\n",
      "  1555 13349  6414  2007 13450 11010  1868  2203  8320 12921 11674  4396\n",
      " 10119  1555  3047  7996  7235  8297  9832   220  6967   885  1433  2203\n",
      "   721  6686  9832 11616  6983 10776  7082  3339  5079  7121  9677  1431\n",
      "  7051 13349   826 13539 13462 13349 13450 11010  1813  6058   623  4860\n",
      "  3227 10044  1365  1735 10445 13299  8151  5709  4493    69  4194  4556\n",
      "  4518  9361 13349 10951  6733  2756 11111 13349  9906  8873  2593  9677\n",
      "  1431  7121  7051 12227  4396  3047 12542  8159  7211 13349 12600  8324\n",
      " 13734  2203  4529  8562  8901 10445  8768 13557  8277 10962  5141  6993\n",
      "  4556  4518  1683 12397 10445  6993  1506 11751  6945  4038  1538 10382\n",
      "  4349  6983 11528  5141  6331 13764  5859 13317  8892 12418  5058   723\n",
      "  9582  8964 12654  4041  7646  8324 13734   625 10784  3024 10445  6920\n",
      "  2265 13349  4510  8477  8324 13734  9305  8541 10445 11025  7211  2784\n",
      " 13401 13349 12227 10445  4396 10445 12043  8495  5646  9918 10776  7713\n",
      "  1526  8884  9832  5079 13632 12672  5122  2120  4193  9456  5053  9704\n",
      "  3997 12406  8884  4529    94   526  6258  7211 13349  3768 13387 11767\n",
      " 10164  8477 11816 12383  6094 13738  1434  8213  2040     2  6546  4290\n",
      "   982  9918  6399   624  9305 10735 13711  6239   637  3654 12347  4563\n",
      " 12300 12749  3115  4609 11816  4926  5079 10445 13387  2040 11767 12227\n",
      " 13349  7121   334 10735 13711   723  6740  7235  9832  3721  7226  7121\n",
      "  3654  9860 10445  8460  4077  7713    99 10445 10445 12629 13047  5036\n",
      "  7121 10046  8442 13635  7691  9832  4529  8442   321  1863 13693  2151\n",
      "  3596 13721 11332 13401 12749  4228  9711  2629  9832 11277  2956  6740\n",
      "  6686  6038 10776 11417  6919 10445 13349 13347  7211 10811  1585  8814\n",
      "  4022  2040  7048  4006  5865  8397  2040  1520   726  8397  6336  4908\n",
      "  1898 10445 13349  3443 10445  7582  7420  4992 11011  5786  8213  3236\n",
      "  4325  2288 13349  8320 12728  8539 12629 11570  3330 13349 10445  4674\n",
      "  7235  9832  9507  7076  4074  8442  4529 11277 10801  8908 13349  3425\n",
      "  4551 10445  8524  2652 13349  4074 10801 10398  2593 12610 12376  1526\n",
      "  4001  9832  5321   721 10445 10145  7121  4142 10735 13711 12364 10811\n",
      "  9832  5443  6038 10776 13693  2151   966  7160  1555  3997  2120  9832\n",
      " 10811 10896  4541  1603 13738  2040 11067  7421 10776  7121  4142 10393\n",
      " 13349 10445  2418  9832  9493   770  8588 12356    99  4249  8588  7466\n",
      "   398  8114 13539 10270  2889  2782 12822  1814  2782 10445 10918  4367\n",
      "  6340  7121  3083 11668  9669  8127 13349  3465  7121  4529  5079 10270\n",
      " 11689 10485  6206 13349 12227  7121 10445 13179  9518 10445  8732  7121\n",
      "  8442  4622 10445  3284  1154 13349  5880  9711  7421  2634 10907  4450\n",
      "  9582 10916  9175  4510 10445  7121 12001 13325  4489  5596 11125 10445\n",
      " 12126  8892 11005  4529 12007  9832 11593  1433   543 12364 12127  2751\n",
      "  9159 12402  6993  3122 13349 10445  4524  4022 13693  2151 10798  2418\n",
      "  7161 12467 13693  1433 13693  2151 12402 12629  7188 10776  8442  6797\n",
      "  2040 12127 12227  5213 10697  9832 13659  6740  1008 10776 10197  6399\n",
      " 13693  2151 13659 13047 10776 12921  4034  2120  2211 12373 10197 13693\n",
      "  2151 13659 13047  4967  5349  3479 10446  4357  6983  9832 12256  7129\n",
      " 12373  6755 13349 10445  4142 12542   637  3654  3285  6332 12206  1735\n",
      "  3104  9881 13047  4529  2040  5702  7363 13400  8170  9918 10776 12127\n",
      "  1433 12364   624 12626  2040 10202  4862  8213  2040  2022   472   398\n",
      "  8114    99 10896 13715  9501  2022  1215  1474  5122  9704 13187   870\n",
      " 10446  4357 11987  4057 13349  4529 13693  2151  7121 13450  4554   922\n",
      "  6740  7161 12992  7121  3464 13693  9219  5880 13693  9595    65  7564\n",
      "   643 11999 13349 11207  7121   625 12418  6740  4554 10355 10652 13349\n",
      "   637 10445  4754 13401  5865  8884  2529  9832  9476  4142   637   624\n",
      "  9832 11044 11062 10445 13349  9669  9832  1183  1091  4039 12076  4510\n",
      "  9832  9672 10445  5090  4845  2288 10445  1912  8588  2288  5443  9832\n",
      "  8263  3115 13349 13349  9760  3047  4396  4350  2483  6967 11921  5228\n",
      "  9832 10849  4616  2288  4325  7298 10445  1912 13349  9832  9272  3058\n",
      " 10445 13349  3083  6613  5289  5772  6904  1526  4577  1183  1091  6877\n",
      "  1863  2593  9704 13187 10445 13349  6789   637 13522  4862  8213 11178\n",
      "   636  2485  3654   637  3083  1027 13685 11782 10221   618  3104  9881\n",
      " 12206   663 10445 13047 11011  5786  8213 10445  7121  6770 10445  9571\n",
      " 13349  5122  5785  5036  5303  4635  8089  9155  8089  9155 12356  6327\n",
      "  5785  1020  1971  8114  7421 12345 13715  8114   472   398 10376  1600\n",
      "  2040 11791   797 13349   334  7453  8603  1431  4396 10861  4529  7779\n",
      "  6229 10075  6049  4357]\n"
     ]
    }
   ],
   "source": [
    "max_review_length = 1000\n",
    "X_train = sequence.pad_sequences(ranktr, maxlen=max_review_length)\n",
    "X_cv   = sequence.pad_sequences(rankcv, maxlen=max_review_length)\n",
    "X_test = sequence.pad_sequences(ranktest, maxlen=max_review_length)\n",
    "\n",
    "print(X_train.shape)\n",
    "print(X_train[1])"
   ]
  },
  {
   "cell_type": "code",
   "execution_count": 0,
   "metadata": {
    "colab": {
     "base_uri": "https://localhost:8080/",
     "height": 275
    },
    "colab_type": "code",
    "id": "EmtaZT3wU_SA",
    "outputId": "9c714694-c3ed-4621-f597-c082f4829aba"
   },
   "outputs": [
    {
     "name": "stderr",
     "output_type": "stream",
     "text": [
      "WARNING: Logging before flag parsing goes to stderr.\n",
      "W0817 10:11:53.313753 140710187665280 deprecation_wrapper.py:119] From /usr/local/lib/python3.6/dist-packages/keras/backend/tensorflow_backend.py:74: The name tf.get_default_graph is deprecated. Please use tf.compat.v1.get_default_graph instead.\n",
      "\n",
      "W0817 10:11:53.354623 140710187665280 deprecation_wrapper.py:119] From /usr/local/lib/python3.6/dist-packages/keras/backend/tensorflow_backend.py:517: The name tf.placeholder is deprecated. Please use tf.compat.v1.placeholder instead.\n",
      "\n",
      "W0817 10:11:53.361517 140710187665280 deprecation_wrapper.py:119] From /usr/local/lib/python3.6/dist-packages/keras/backend/tensorflow_backend.py:4138: The name tf.random_uniform is deprecated. Please use tf.random.uniform instead.\n",
      "\n",
      "W0817 10:11:53.683286 140710187665280 deprecation_wrapper.py:119] From /usr/local/lib/python3.6/dist-packages/keras/optimizers.py:790: The name tf.train.Optimizer is deprecated. Please use tf.compat.v1.train.Optimizer instead.\n",
      "\n",
      "W0817 10:11:53.710934 140710187665280 deprecation_wrapper.py:119] From /usr/local/lib/python3.6/dist-packages/keras/backend/tensorflow_backend.py:3376: The name tf.log is deprecated. Please use tf.math.log instead.\n",
      "\n",
      "W0817 10:11:53.720319 140710187665280 deprecation.py:323] From /usr/local/lib/python3.6/dist-packages/tensorflow/python/ops/nn_impl.py:180: add_dispatch_support.<locals>.wrapper (from tensorflow.python.ops.array_ops) is deprecated and will be removed in a future version.\n",
      "Instructions for updating:\n",
      "Use tf.where in 2.0, which has the same broadcast rule as np.where\n"
     ]
    }
   ],
   "source": [
    "embedding_vecor_length = 300\n",
    "model_1 = Sequential()\n",
    "model_1.add(Embedding(13780+1, embedding_vecor_length, input_length=max_review_length))\n",
    "model_1.add(LSTM(128))\n",
    "model_1.add(Dense(71, activation='sigmoid'))\n",
    "model_1.compile(loss='binary_crossentropy', optimizer='adam', metrics=['accuracy'])\n"
   ]
  },
  {
   "cell_type": "code",
   "execution_count": 0,
   "metadata": {
    "colab": {
     "base_uri": "https://localhost:8080/",
     "height": 275
    },
    "colab_type": "code",
    "id": "z7wgV6p3VCtM",
    "outputId": "adaa87da-584c-4977-90bb-c61b8ccec23c"
   },
   "outputs": [
    {
     "name": "stderr",
     "output_type": "stream",
     "text": [
      "W0817 10:11:54.956021 140710187665280 deprecation_wrapper.py:119] From /usr/local/lib/python3.6/dist-packages/keras/backend/tensorflow_backend.py:986: The name tf.assign_add is deprecated. Please use tf.compat.v1.assign_add instead.\n",
      "\n"
     ]
    },
    {
     "name": "stdout",
     "output_type": "stream",
     "text": [
      "Train on 9436 samples, validate on 2359 samples\n",
      "Epoch 1/5\n",
      "9436/9436 [==============================] - 51s 5ms/step - loss: 0.5485 - acc: 0.8645 - val_loss: 0.2306 - val_acc: 0.9574\n",
      "Epoch 2/5\n",
      "9436/9436 [==============================] - 47s 5ms/step - loss: 0.1645 - acc: 0.9583 - val_loss: 0.1449 - val_acc: 0.9574\n",
      "Epoch 3/5\n",
      "9436/9436 [==============================] - 46s 5ms/step - loss: 0.1411 - acc: 0.9583 - val_loss: 0.1421 - val_acc: 0.9574\n",
      "Epoch 4/5\n",
      "9436/9436 [==============================] - 46s 5ms/step - loss: 0.1393 - acc: 0.9583 - val_loss: 0.1412 - val_acc: 0.9574\n",
      "Epoch 5/5\n",
      "9436/9436 [==============================] - 46s 5ms/step - loss: 0.1387 - acc: 0.9583 - val_loss: 0.1410 - val_acc: 0.9574\n"
     ]
    },
    {
     "data": {
      "text/plain": [
       "<keras.callbacks.History at 0x7ff96ea0ab70>"
      ]
     },
     "execution_count": 37,
     "metadata": {
      "tags": []
     },
     "output_type": "execute_result"
    }
   ],
   "source": [
    "model_1.fit(X_train, y_train, epochs=5, batch_size=512,validation_data=(X_cv,y_cv))"
   ]
  },
  {
   "cell_type": "code",
   "execution_count": 0,
   "metadata": {
    "colab": {},
    "colab_type": "code",
    "id": "nGIFCXo2VvYD"
   },
   "outputs": [],
   "source": [
    "predict_probtr = model_1.predict(X_train)\n"
   ]
  },
  {
   "cell_type": "code",
   "execution_count": 0,
   "metadata": {
    "colab": {},
    "colab_type": "code",
    "id": "hEbaSeO0GZg_"
   },
   "outputs": [],
   "source": [
    "t=[0.5,0.2,0.1,0.05]#threshold"
   ]
  },
  {
   "cell_type": "code",
   "execution_count": 0,
   "metadata": {
    "colab": {
     "base_uri": "https://localhost:8080/",
     "height": 85
    },
    "colab_type": "code",
    "id": "VZJ0QW5jVqcp",
    "outputId": "64e2d151-4145-4d22-9c7d-cac7e0e36098"
   },
   "outputs": [
    {
     "name": "stdout",
     "output_type": "stream",
     "text": [
      " F1-measure for train: 0.0000 and threshold=0.5\n",
      " F1-measure for train: 0.2773 and threshold=0.2\n",
      " F1-measure for train: 0.3053 and threshold=0.1\n",
      " F1-measure for train: 0.2485 and threshold=0.05\n"
     ]
    }
   ],
   "source": [
    "for i in t:\n",
    "  y_predtr = (predict_probtr >= i).astype(int)\n",
    "  f1 = f1_score(y_train, y_predtr, average='micro')\n",
    "  print(\" F1-measure for train: {:.4f} and threshold={}\".format( f1,i))"
   ]
  },
  {
   "cell_type": "markdown",
   "metadata": {
    "colab_type": "text",
    "id": "9ftHOj9oHEBV"
   },
   "source": [
    "# taking threshold as 0.1"
   ]
  },
  {
   "cell_type": "code",
   "execution_count": 0,
   "metadata": {
    "colab": {},
    "colab_type": "code",
    "id": "iIL3hQrqVFAf"
   },
   "outputs": [],
   "source": [
    "predict_prob = model_1.predict(X_test)\n"
   ]
  },
  {
   "cell_type": "code",
   "execution_count": 0,
   "metadata": {
    "colab": {
     "base_uri": "https://localhost:8080/",
     "height": 272
    },
    "colab_type": "code",
    "id": "6M7bW5ItHd3I",
    "outputId": "1052a8ed-0877-4246-c948-cfdc01c1d964"
   },
   "outputs": [
    {
     "data": {
      "text/plain": [
       "array([0.01858133, 0.04362813, 0.00821382, 0.00974792, 0.00627637,\n",
       "       0.01454931, 0.00741696, 0.02862522, 0.00422007, 0.01805571,\n",
       "       0.00680026, 0.01417279, 0.0356462 , 0.00719705, 0.0037584 ,\n",
       "       0.00538141, 0.00522521, 0.12843624, 0.00783843, 0.02855575,\n",
       "       0.17216185, 0.01242733, 0.02835459, 0.01230884, 0.02762339,\n",
       "       0.04805008, 0.03844845, 0.00480804, 0.19711196, 0.06184345,\n",
       "       0.03073347, 0.00541219, 0.00966036, 0.01791635, 0.01042733,\n",
       "       0.00973195, 0.03316283, 0.05565515, 0.04421234, 0.00669426,\n",
       "       0.01055536, 0.00592789, 0.02996501, 0.37207168, 0.03519765,\n",
       "       0.05066758, 0.00272527, 0.03214604, 0.01680574, 0.0126853 ,\n",
       "       0.0106259 , 0.01619208, 0.13411337, 0.01968622, 0.00567257,\n",
       "       0.01547539, 0.16526577, 0.18440023, 0.04246202, 0.05527481,\n",
       "       0.02168334, 0.01704258, 0.02548701, 0.01247486, 0.00274321,\n",
       "       0.07060099, 0.00799596, 0.03832561, 0.28975213, 0.00473303,\n",
       "       0.00628313], dtype=float32)"
      ]
     },
     "execution_count": 53,
     "metadata": {
      "tags": []
     },
     "output_type": "execute_result"
    }
   ],
   "source": [
    "predict_prob[0]"
   ]
  },
  {
   "cell_type": "code",
   "execution_count": 0,
   "metadata": {
    "colab": {
     "base_uri": "https://localhost:8080/",
     "height": 34
    },
    "colab_type": "code",
    "id": "HWC-Bnx7VJMv",
    "outputId": "773419a5-ed65-47af-e65d-91c0f00d9136"
   },
   "outputs": [
    {
     "name": "stdout",
     "output_type": "stream",
     "text": [
      " F1-measure for test: 0.3100\n"
     ]
    }
   ],
   "source": [
    "y_pred_new = (predict_prob >= 0.1).astype(int)\n",
    "f2 = f1_score(y_test, y_pred_new, average='micro')\n",
    "print(\" F1-measure for test: {:.4f}\".format( f2))"
   ]
  },
  {
   "cell_type": "code",
   "execution_count": 0,
   "metadata": {
    "colab": {
     "base_uri": "https://localhost:8080/",
     "height": 884
    },
    "colab_type": "code",
    "id": "JahFqZHiIMDF",
    "outputId": "8cd717ee-1e98-4184-cdba-573fe262ef26"
   },
   "outputs": [
    {
     "name": "stdout",
     "output_type": "stream",
     "text": [
      "  (0, 56)\t1\n",
      "  (0, 65)\t1\n",
      "  (1, 52)\t1\n",
      "  (2, 29)\t1\n",
      "  (2, 68)\t1\n",
      "  (2, 26)\t1\n",
      "  (2, 12)\t1\n",
      "  (2, 57)\t1\n",
      "  (3, 20)\t1\n",
      "  (3, 48)\t1\n",
      "  (4, 56)\t1\n",
      "  (4, 65)\t1\n",
      "  (4, 68)\t1\n",
      "  (4, 43)\t1\n",
      "  (4, 28)\t1\n",
      "  (5, 68)\t1\n",
      "  (5, 12)\t1\n",
      "  (5, 43)\t1\n",
      "  (5, 28)\t1\n",
      "  (5, 24)\t1\n",
      "  (5, 15)\t1\n",
      "  (5, 61)\t1\n",
      "  (6, 52)\t1\n",
      "  (6, 68)\t1\n",
      "  (6, 43)\t1\n",
      "  :\t:\n",
      "  (2940, 43)\t1\n",
      "  (2941, 65)\t1\n",
      "  (2942, 43)\t1\n",
      "  (2943, 47)\t1\n",
      "  (2944, 56)\t1\n",
      "  (2944, 65)\t1\n",
      "  (2944, 68)\t1\n",
      "  (2944, 45)\t1\n",
      "  (2945, 43)\t1\n",
      "  (2945, 38)\t1\n",
      "  (2946, 7)\t1\n",
      "  (2947, 28)\t1\n",
      "  (2947, 17)\t1\n",
      "  (2947, 47)\t1\n",
      "  (2947, 37)\t1\n",
      "  (2948, 12)\t1\n",
      "  (2949, 56)\t1\n",
      "  (2949, 57)\t1\n",
      "  (2950, 47)\t1\n",
      "  (2951, 43)\t1\n",
      "  (2952, 43)\t1\n",
      "  (2953, 68)\t1\n",
      "  (2954, 43)\t1\n",
      "  (2955, 43)\t1\n",
      "  (2956, 43)\t1\n"
     ]
    }
   ],
   "source": [
    "print(y_test)"
   ]
  },
  {
   "cell_type": "markdown",
   "metadata": {
    "colab_type": "text",
    "id": "13-aTyCkKZTz"
   },
   "source": [
    "# checking the predicted values"
   ]
  },
  {
   "cell_type": "code",
   "execution_count": 0,
   "metadata": {
    "colab": {
     "base_uri": "https://localhost:8080/",
     "height": 34
    },
    "colab_type": "code",
    "id": "MvADUN37I6d6",
    "outputId": "fdf6b5ec-20d2-4d7f-9250-27b519ce4f5b"
   },
   "outputs": [
    {
     "data": {
      "text/plain": [
       "1"
      ]
     },
     "execution_count": 63,
     "metadata": {
      "tags": []
     },
     "output_type": "execute_result"
    }
   ],
   "source": [
    "y_pred_new[2][57]"
   ]
  },
  {
   "cell_type": "code",
   "execution_count": 0,
   "metadata": {
    "colab": {
     "base_uri": "https://localhost:8080/",
     "height": 34
    },
    "colab_type": "code",
    "id": "xdDPsVmDKNMb",
    "outputId": "aa9fb1a8-5703-4d19-ab64-1dae15b42aeb"
   },
   "outputs": [
    {
     "data": {
      "text/plain": [
       "1"
      ]
     },
     "execution_count": 66,
     "metadata": {
      "tags": []
     },
     "output_type": "execute_result"
    }
   ],
   "source": [
    "y_pred_new[2][68]"
   ]
  },
  {
   "cell_type": "code",
   "execution_count": 0,
   "metadata": {
    "colab": {
     "base_uri": "https://localhost:8080/",
     "height": 85
    },
    "colab_type": "code",
    "id": "KtcZ9eQCJNrk",
    "outputId": "e919b0b5-84f7-43fe-e5f2-2ba7d9511db9"
   },
   "outputs": [
    {
     "data": {
      "text/plain": [
       "array([0, 0, 0, 0, 0, 0, 0, 0, 0, 0, 0, 0, 0, 0, 0, 0, 0, 1, 0, 0, 1, 0,\n",
       "       0, 0, 0, 0, 0, 0, 1, 0, 0, 0, 0, 0, 0, 0, 0, 0, 0, 0, 0, 0, 0, 1,\n",
       "       0, 0, 0, 0, 0, 0, 0, 0, 1, 0, 0, 0, 1, 1, 0, 0, 0, 0, 0, 0, 0, 0,\n",
       "       0, 0, 1, 0, 0])"
      ]
     },
     "execution_count": 64,
     "metadata": {
      "tags": []
     },
     "output_type": "execute_result"
    }
   ],
   "source": [
    "y_pred_new[2]"
   ]
  },
  {
   "cell_type": "markdown",
   "metadata": {
    "colab_type": "text",
    "id": "L4ysmdFbKwfn"
   },
   "source": [
    "## out of 4 tags in actual dataset at y_test[2] this model is predicting 2 correctly"
   ]
  },
  {
   "cell_type": "markdown",
   "metadata": {
    "colab_type": "text",
    "id": "fO8H3faRLG5S"
   },
   "source": [
    "## the best metrics will be to check recall value.i.e how many times we are actually predicting correct label"
   ]
  },
  {
   "cell_type": "code",
   "execution_count": 0,
   "metadata": {
    "colab": {},
    "colab_type": "code",
    "id": "QpfxW9TCLWD4"
   },
   "outputs": [],
   "source": [
    "f2 = recall_score(y_test, y_pred_new, average='micro')"
   ]
  },
  {
   "cell_type": "code",
   "execution_count": 0,
   "metadata": {
    "colab": {
     "base_uri": "https://localhost:8080/",
     "height": 34
    },
    "colab_type": "code",
    "id": "vF_MzExJMFw9",
    "outputId": "35f06464-322c-427e-c0ac-66a7aa8b4327"
   },
   "outputs": [
    {
     "name": "stdout",
     "output_type": "stream",
     "text": [
      " recall-measure for test: 0.5620\n"
     ]
    }
   ],
   "source": [
    "print(\" recall-measure for test: {:.4f}\".format( f2))"
   ]
  },
  {
   "cell_type": "markdown",
   "metadata": {
    "colab_type": "text",
    "id": "Y1ehWiTzNDQX"
   },
   "source": [
    "# let check precision also"
   ]
  },
  {
   "cell_type": "code",
   "execution_count": 0,
   "metadata": {
    "colab": {},
    "colab_type": "code",
    "id": "MpBp-YQTMppM"
   },
   "outputs": [],
   "source": [
    "f2 = precision_score(y_test, y_pred_new, average='micro')"
   ]
  },
  {
   "cell_type": "code",
   "execution_count": 0,
   "metadata": {
    "colab": {
     "base_uri": "https://localhost:8080/",
     "height": 34
    },
    "colab_type": "code",
    "id": "wj9nMBPAM49u",
    "outputId": "7226ce50-e168-4b3e-8443-97686cda1f35"
   },
   "outputs": [
    {
     "name": "stdout",
     "output_type": "stream",
     "text": [
      " precision-measure for test: 0.2140\n"
     ]
    }
   ],
   "source": [
    "print(\" precision-measure for test: {:.4f}\".format( f2))"
   ]
  },
  {
   "cell_type": "markdown",
   "metadata": {
    "colab_type": "text",
    "id": "0uvg2fS6MVYa"
   },
   "source": [
    "### the recall value is great.approx half of the actual value we are able to recall "
   ]
  },
  {
   "cell_type": "markdown",
   "metadata": {
    "colab_type": "text",
    "id": "momzy0AyN4b6"
   },
   "source": [
    "# TOPIC MODELLING"
   ]
  },
  {
   "cell_type": "markdown",
   "metadata": {
    "colab_type": "text",
    "id": "OWRTfOGJOdRW"
   },
   "source": [
    "## for using randomised search cv and 3 fold cv we merge train and cv together"
   ]
  },
  {
   "cell_type": "code",
   "execution_count": 0,
   "metadata": {
    "colab": {},
    "colab_type": "code",
    "id": "5vY10ljjN5dF"
   },
   "outputs": [],
   "source": [
    "x_train1=preprocess_plot[2957:]\n",
    "x_test1=preprocess_plot[:2957]\n",
    "\n",
    "y_train = multilabel_y[2957:]\n",
    "y_test = multilabel_y[:2957]\n"
   ]
  },
  {
   "cell_type": "code",
   "execution_count": 0,
   "metadata": {
    "colab": {},
    "colab_type": "code",
    "id": "83I3Uhqy3yBn"
   },
   "outputs": [],
   "source": [
    "vectorizer =TfidfVectorizer(min_df=10,ngram_range=(1,3),max_features=20000)\n",
    "x_train_multilabel1 = vectorizer.fit_transform(x_train1)\n",
    "x_test_multilabel1 = vectorizer.transform(x_test1)"
   ]
  },
  {
   "cell_type": "code",
   "execution_count": 28,
   "metadata": {
    "colab": {
     "base_uri": "https://localhost:8080/",
     "height": 34
    },
    "colab_type": "code",
    "id": "Lw4npBHDim-s",
    "outputId": "a3b27d73-367b-425f-ad14-b9170670cdf1"
   },
   "outputs": [
    {
     "data": {
      "text/plain": [
       "(11795, 20000)"
      ]
     },
     "execution_count": 28,
     "metadata": {
      "tags": []
     },
     "output_type": "execute_result"
    }
   ],
   "source": [
    "x_train_multilabel1.shape"
   ]
  },
  {
   "cell_type": "raw",
   "metadata": {},
   "source": [
    "reference: https://www.analyticsvidhya.com/blog/2016/08/beginners-guide-to-topic-modeling-in-python/"
   ]
  },
  {
   "cell_type": "code",
   "execution_count": 0,
   "metadata": {
    "colab": {},
    "colab_type": "code",
    "id": "XpG9ezAGmDDh"
   },
   "outputs": [],
   "source": [
    "from sklearn.decomposition import LatentDirichletAllocation\n",
    "lda=LatentDirichletAllocation()\n",
    "tr2=lda.fit_transform(x_train_multilabel1)\n",
    "test2=lda.transform(x_test_multilabel1)"
   ]
  },
  {
   "cell_type": "code",
   "execution_count": 29,
   "metadata": {
    "colab": {
     "base_uri": "https://localhost:8080/",
     "height": 51
    },
    "colab_type": "code",
    "id": "w-4yw0e3nj5z",
    "outputId": "84fa3f4f-5bfc-48ba-b5bb-444420e0c633"
   },
   "outputs": [
    {
     "name": "stdout",
     "output_type": "stream",
     "text": [
      "(11795, 20010)\n",
      "(2957, 20010)\n"
     ]
    }
   ],
   "source": [
    "from scipy.sparse import hstack\n",
    "x_train_multilabl = hstack([x_train_multilabel1,tr2])\n",
    "print(x_train_multilabl.shape)\n",
    "x_test_multilabl = hstack([x_test_multilabel1,test2])\n",
    "print(x_test_multilabl.shape)"
   ]
  },
  {
   "cell_type": "markdown",
   "metadata": {},
   "source": [
    "# logistic regression"
   ]
  },
  {
   "cell_type": "code",
   "execution_count": 0,
   "metadata": {
    "colab": {
     "base_uri": "https://localhost:8080/",
     "height": 68
    },
    "colab_type": "code",
    "id": "RExfYf2BiHQG",
    "outputId": "54744b1f-7f56-473f-f7c6-4de4a2a4ef05"
   },
   "outputs": [
    {
     "name": "stdout",
     "output_type": "stream",
     "text": [
      "Micro-average quality numbers for C=1 and threshold= 0.2\n",
      " F1-measure for test: 0.5466\n",
      " F1-measure for test: 0.4020\n"
     ]
    }
   ],
   "source": [
    "# I am keeping same hyperparameter which i got after tuning above\n",
    "classifier_1 = OneVsRestClassifier(LogisticRegression(C=1,penalty='l2',tol=0.001))\n",
    "classifier_1.fit(x_train_multilabl, y_train)\n",
    "yprobtr= classifier_1.predict_proba(x_train_multilabl)\n",
    "y_pred_prob = classifier_1.predict_proba(x_test_multilabl )\n",
    "i=0.2 \n",
    "y_predtr = (yprobtr >= i).astype(int)\n",
    "y_pred_new = (y_pred_prob >= i).astype(int)\n",
    "f1 = f1_score(y_train,y_predtr, average='micro')\n",
    "f2 = f1_score(y_test, y_pred_new, average='micro')\n",
    "print(\"Micro-average quality numbers for C=1 and threshold=\",i)\n",
    "print(\" F1-measure for test: {:.4f}\".format( f1))\n",
    "print(\" F1-measure for test: {:.4f}\".format( f2))"
   ]
  },
  {
   "cell_type": "markdown",
   "metadata": {
    "colab_type": "text",
    "id": "nOPgn3LZPhUw"
   },
   "source": [
    "# LightGBM"
   ]
  },
  {
   "cell_type": "code",
   "execution_count": 0,
   "metadata": {
    "colab": {
     "base_uri": "https://localhost:8080/",
     "height": 629
    },
    "colab_type": "code",
    "id": "BO8mt3USePRY",
    "outputId": "34c1c7f6-24db-4f2a-d561-46e59dbfc87f"
   },
   "outputs": [
    {
     "name": "stdout",
     "output_type": "stream",
     "text": [
      "Fitting 3 folds for each of 10 candidates, totalling 30 fits\n"
     ]
    },
    {
     "name": "stderr",
     "output_type": "stream",
     "text": [
      "[Parallel(n_jobs=-1)]: Using backend LokyBackend with 2 concurrent workers.\n",
      "[Parallel(n_jobs=-1)]: Done   1 tasks      | elapsed:  8.1min\n",
      "[Parallel(n_jobs=-1)]: Done   4 tasks      | elapsed: 29.6min\n",
      "[Parallel(n_jobs=-1)]: Done   9 tasks      | elapsed: 92.5min\n",
      "[Parallel(n_jobs=-1)]: Done  14 tasks      | elapsed: 117.0min\n",
      "[Parallel(n_jobs=-1)]: Done  21 tasks      | elapsed: 168.6min\n",
      "[Parallel(n_jobs=-1)]: Done  30 out of  30 | elapsed: 215.3min finished\n"
     ]
    },
    {
     "data": {
      "text/plain": [
       "RandomizedSearchCV(cv='warn', error_score='raise-deprecating',\n",
       "                   estimator=OneVsRestClassifier(estimator=LGBMClassifier(boosting_type='gbdt',\n",
       "                                                                          class_weight=None,\n",
       "                                                                          colsample_bytree=1.0,\n",
       "                                                                          importance_type='split',\n",
       "                                                                          learning_rate=0.1,\n",
       "                                                                          max_depth=-1,\n",
       "                                                                          min_child_samples=20,\n",
       "                                                                          min_child_weight=0.001,\n",
       "                                                                          min_split_gain=0.0,\n",
       "                                                                          n_estimators=100,\n",
       "                                                                          n_jobs=-1,\n",
       "                                                                          num_leaves=31,\n",
       "                                                                          objective=None,...\n",
       "                                                                          reg_alpha=0.0,\n",
       "                                                                          reg_lambda=0.0,\n",
       "                                                                          silent=True,\n",
       "                                                                          subsample=1.0,\n",
       "                                                                          subsample_for_bin=200000,\n",
       "                                                                          subsample_freq=0),\n",
       "                                                 n_jobs=None),\n",
       "                   iid='warn', n_iter=10, n_jobs=-1,\n",
       "                   param_distributions={'estimator__max_depth': [3, 5, 10, 30],\n",
       "                                        'estimator__num_iterations': [100, 200,\n",
       "                                                                      500, 1000,\n",
       "                                                                      2000]},\n",
       "                   pre_dispatch='2*n_jobs', random_state=None, refit=True,\n",
       "                   return_train_score=False, scoring='f1_micro', verbose=10)"
      ]
     },
     "execution_count": 26,
     "metadata": {
      "tags": []
     },
     "output_type": "execute_result"
    }
   ],
   "source": [
    "import lightgbm as lgb\n",
    "from sklearn.model_selection import RandomizedSearchCV\n",
    "dtr =  OneVsRestClassifier(lgb.LGBMClassifier())\n",
    "prams={\n",
    "    \n",
    "     'estimator__num_iterations':[100,200,500,1000,2000],\n",
    "     'estimator__max_depth':[3,5,10,30]\n",
    "}\n",
    "random_cfl=RandomizedSearchCV(dtr,param_distributions=prams,scoring='f1_micro',verbose=10,n_jobs=-1)\n",
    "random_cfl.fit(x_train_multilabel1,y_train)"
   ]
  },
  {
   "cell_type": "code",
   "execution_count": 0,
   "metadata": {
    "colab": {
     "base_uri": "https://localhost:8080/",
     "height": 34
    },
    "colab_type": "code",
    "id": "fW7baJAwRiaz",
    "outputId": "bf30487b-0a63-4bd0-98d0-57595672b101"
   },
   "outputs": [
    {
     "data": {
      "text/plain": [
       "{'estimator__max_depth': 3, 'estimator__num_iterations': 500}"
      ]
     },
     "execution_count": 27,
     "metadata": {
      "tags": []
     },
     "output_type": "execute_result"
    }
   ],
   "source": [
    "random_cfl.best_params_"
   ]
  },
  {
   "cell_type": "code",
   "execution_count": 30,
   "metadata": {
    "colab": {
     "base_uri": "https://localhost:8080/",
     "height": 289
    },
    "colab_type": "code",
    "id": "Et6j3SnVRxhv",
    "outputId": "7a43948b-f96f-4555-f1bb-d82f28833319"
   },
   "outputs": [
    {
     "data": {
      "text/plain": [
       "OneVsRestClassifier(estimator=LGBMClassifier(boosting_type='gbdt',\n",
       "                                             class_weight=None,\n",
       "                                             colsample_bytree=1.0,\n",
       "                                             importance_type='split',\n",
       "                                             learning_rate=0.1, max_depth=3,\n",
       "                                             min_child_samples=20,\n",
       "                                             min_child_weight=0.001,\n",
       "                                             min_split_gain=0.0,\n",
       "                                             n_estimators=100, n_jobs=-1,\n",
       "                                             num_iterations=500, num_leaves=31,\n",
       "                                             objective=None, random_state=None,\n",
       "                                             reg_alpha=0.0, reg_lambda=0.0,\n",
       "                                             silent=True, subsample=1.0,\n",
       "                                             subsample_for_bin=200000,\n",
       "                                             subsample_freq=0),\n",
       "                    n_jobs=None)"
      ]
     },
     "execution_count": 30,
     "metadata": {
      "tags": []
     },
     "output_type": "execute_result"
    }
   ],
   "source": [
    "import lightgbm as lgb\n",
    "dtr =  OneVsRestClassifier(lgb.LGBMClassifier(max_depth=3,num_iterations=500))\n",
    "dtr.fit(x_train_multilabl, y_train)\n"
   ]
  },
  {
   "cell_type": "code",
   "execution_count": 0,
   "metadata": {
    "colab": {},
    "colab_type": "code",
    "id": "FXqNMS3-UHj3"
   },
   "outputs": [],
   "source": [
    "ytrprob=dtr.predict_proba(x_train_multilabl)"
   ]
  },
  {
   "cell_type": "code",
   "execution_count": 0,
   "metadata": {
    "colab": {},
    "colab_type": "code",
    "id": "DD-jpUsv8quK"
   },
   "outputs": [],
   "source": [
    "ytestprob=dtr.predict_proba(x_test_multilabl)"
   ]
  },
  {
   "cell_type": "code",
   "execution_count": 33,
   "metadata": {
    "colab": {
     "base_uri": "https://localhost:8080/",
     "height": 221
    },
    "colab_type": "code",
    "id": "MuReoAXL86YP",
    "outputId": "9c5bfbc2-3879-4b0a-994c-0ec511d7f0b6"
   },
   "outputs": [
    {
     "name": "stdout",
     "output_type": "stream",
     "text": [
      "Micro-average quality numbers for C=1 and threshold= 0.5\n",
      " F1-measure for test: 0.8106\n",
      " F1-measure for test: 0.2981\n",
      "Micro-average quality numbers for C=1 and threshold= 0.3\n",
      " F1-measure for test: 0.8812\n",
      " F1-measure for test: 0.3861\n",
      "Micro-average quality numbers for C=1 and threshold= 0.2\n",
      " F1-measure for test: 0.8380\n",
      " F1-measure for test: 0.4087\n",
      "Micro-average quality numbers for C=1 and threshold= 0.1\n",
      " F1-measure for test: 0.6569\n",
      " F1-measure for test: 0.3902\n"
     ]
    }
   ],
   "source": [
    "threshold=[0.5,0.3,0.2,0.1]\n",
    "for i in threshold:\n",
    "  y_predtr = (ytrprob >= i).astype(int)\n",
    "  y_predtest = (ytestprob >= i).astype(int)\n",
    "  f1 = f1_score(y_train,y_predtr, average='micro')\n",
    "  f2 = f1_score(y_test, y_predtest, average='micro')\n",
    "  print(\"Micro-average quality numbers for C=1 and threshold=\",i)\n",
    "  print(\" F1-measure for test: {:.4f}\".format( f1))\n",
    "  print(\" F1-measure for test: {:.4f}\".format( f2))"
   ]
  },
  {
   "cell_type": "code",
   "execution_count": 1,
   "metadata": {
    "colab": {
     "base_uri": "https://localhost:8080/",
     "height": 136
    },
    "colab_type": "code",
    "id": "DTIZFzd9lOES",
    "outputId": "24618f57-e9cd-49c8-b906-62e1807f0a0f"
   },
   "outputs": [
    {
     "name": "stdout",
     "output_type": "stream",
     "text": [
      "+------------------------+---------------------+----------+---------+\n",
      "|       vectorizer       |        Model        | train f1 | test f1 |\n",
      "+------------------------+---------------------+----------+---------+\n",
      "|         tfidf          | logistic regression |  0.4015  |  0.3979 |\n",
      "|         tfidf          |     naive bayes     |  0.3447  |  0.3454 |\n",
      "|     deep learning      |         LSTM        |  0.3173  |  0.3215 |\n",
      "| topic medelling+ tfidf | Logistic Regression |   0.54   |   0.40  |\n",
      "| topic medelling+ tfidf |       LightGBM      |   0.83   |  0.408  |\n",
      "+------------------------+---------------------+----------+---------+\n"
     ]
    }
   ],
   "source": [
    "from prettytable import PrettyTable\n",
    "\n",
    "# Initializing table object\n",
    "x = PrettyTable()\n",
    "\n",
    "x.field_names = [\"vectorizer\",\"Model\",\"train f1\",\"test f1\"]\n",
    "x.add_row([\"tfidf\",\"logistic regression\",\"0.4015\",\"0.3979\" ])\n",
    "x.add_row([\"tfidf\",\"naive bayes\",\"0.3447\",\"0.3454\" ])\n",
    "x.add_row([\"deep learning\",\"LSTM\",\"0.3173\",\"0.3215\" ])\n",
    "x.add_row([\"topic medelling+ tfidf\",\"Logistic Regression\",\"0.54\",\"0.40\" ])\n",
    "x.add_row([\"topic medelling+ tfidf\",\"LightGBM\",\"0.83\",\"0.408\" ])\n",
    "print(x)"
   ]
  },
  {
   "cell_type": "markdown",
   "metadata": {
    "colab_type": "text",
    "id": "LlOgQwOtCOmq"
   },
   "source": [
    "# conclusion"
   ]
  },
  {
   "cell_type": "markdown",
   "metadata": {
    "colab_type": "text",
    "id": "5b-KkCAcCOmq"
   },
   "source": [
    "reference: https://www.kaggle.com/cryptexcode/mpst-movie-plot-synopses-with-tags\n",
    "\n",
    "1. I got a significant improvement of around 5% from original research paper mentioned in above link.\n",
    "\n",
    "2. Experimenting with lots of featurization and including topic modelling  improved my score.\n",
    "\n",
    "3. Hacks using threshold was very effecient and improved score.\n",
    "\n",
    "4. tags need to be preprocessed as it contained multiple duplicate tags with a space in front.after preprocessing i got 71 tags outof 141\n",
    "\n",
    "5. I used every possible approach i.e tfidf,matrix factorization techniques and deep learning.\n",
    "\n",
    "6. The final best micro f1 on test was .408.\n",
    "\n",
    "7. The given dataset was very small and plot featurization increased dimention .\n",
    "   due to lack of sufficient data point deep learning didnt perform well.\n",
    "\n",
    "8. I trained model with train and test split specified by the dataset.\n",
    "\n",
    "9. I cared about data leakage.\n",
    "\n",
    "10. Decision trees was the worst performer because of high dimention.\n"
   ]
  }
 ],
 "metadata": {
  "accelerator": "GPU",
  "colab": {
   "collapsed_sections": [
    "As0hTJB7RBzX",
    "58nxraqd2-ub",
    "HMnfeOYyRB0e",
    "XpI6_uneRB0k",
    "fprl0HRAvs2e",
    "Po6k4K05_Tmg",
    "KRGHRQyFu0jy",
    "qGM5FzIJRB0p",
    "EhZt1fwbRB0z",
    "feOTMJu76ekC",
    "cuI6q7mrRB0v",
    "A7Kpbu_PUHFc",
    "9ftHOj9oHEBV",
    "13-aTyCkKZTz",
    "L4ysmdFbKwfn",
    "fO8H3faRLG5S",
    "LlOgQwOtCOmq"
   ],
   "name": "movietags.ipynb",
   "provenance": [],
   "version": "0.3.2"
  },
  "kernelspec": {
   "display_name": "Python 3",
   "language": "python",
   "name": "python3"
  },
  "language_info": {
   "codemirror_mode": {
    "name": "ipython",
    "version": 3
   },
   "file_extension": ".py",
   "mimetype": "text/x-python",
   "name": "python",
   "nbconvert_exporter": "python",
   "pygments_lexer": "ipython3",
   "version": "3.7.1"
  }
 },
 "nbformat": 4,
 "nbformat_minor": 1
}
